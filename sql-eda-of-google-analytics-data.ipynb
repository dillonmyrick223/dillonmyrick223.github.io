{
 "cells": [
  {
   "cell_type": "markdown",
   "metadata": {
    "papermill": {
     "duration": 0.044456,
     "end_time": "2023-08-20T23:15:05.531463",
     "exception": false,
     "start_time": "2023-08-20T23:15:05.487007",
     "status": "completed"
    },
    "tags": []
   },
   "source": [
    "# Goal\n",
    "The goal of this project is to act as a Data Analyst for the Google Merchandise Store, and analyze Google Analytics data from Bigquery using SQL. The period for this analysis will be 2016/8/1 - 2017/8/1.\n",
    "\n",
    "Site: https://shop.googlemerchandisestore.com/\n",
    "\n",
    "For this analysis we'll focus on 3 main goals:\n",
    "* Understand the composition of current site traffic\n",
    "* Understand the flow and conversion path of users \n",
    "* Forecast product demand\n",
    "\n",
    "In addition, we'll use the following steps as a framework to organize our analysis:\n",
    "1. Extract data and confirm contents\n",
    "2. Make our goals more concrete\n",
    "3. Explore and analyze data\n",
    "4. Visualize insights and interpret results"
   ]
  },
  {
   "cell_type": "code",
   "execution_count": 1,
   "metadata": {
    "_cell_guid": "b1076dfc-b9ad-4769-8c92-a6c4dae69d19",
    "_uuid": "8f2839f25d086af736a60e9eeb907d3b93b6e0e5",
    "execution": {
     "iopub.execute_input": "2023-08-20T23:15:05.620633Z",
     "iopub.status.busy": "2023-08-20T23:15:05.620008Z",
     "iopub.status.idle": "2023-08-20T23:15:07.335201Z",
     "shell.execute_reply": "2023-08-20T23:15:07.334378Z",
     "shell.execute_reply.started": "2023-08-20T23:08:26.211992Z"
    },
    "papermill": {
     "duration": 1.763909,
     "end_time": "2023-08-20T23:15:07.335328",
     "exception": false,
     "start_time": "2023-08-20T23:15:05.571419",
     "status": "completed"
    },
    "tags": []
   },
   "outputs": [
    {
     "data": {
      "text/html": [
       "        <script type=\"text/javascript\">\n",
       "        window.PlotlyConfig = {MathJaxConfig: 'local'};\n",
       "        if (window.MathJax) {MathJax.Hub.Config({SVG: {font: \"STIX-Web\"}});}\n",
       "        if (typeof require !== 'undefined') {\n",
       "        require.undef(\"plotly\");\n",
       "        requirejs.config({\n",
       "            paths: {\n",
       "                'plotly': ['https://cdn.plot.ly/plotly-latest.min']\n",
       "            }\n",
       "        });\n",
       "        require(['plotly'], function(Plotly) {\n",
       "            window._Plotly = Plotly;\n",
       "        });\n",
       "        }\n",
       "        </script>\n",
       "        "
      ]
     },
     "metadata": {},
     "output_type": "display_data"
    }
   ],
   "source": [
    "# Import necessary libraries\n",
    "import pandas as pd \n",
    "import seaborn as sns\n",
    "import matplotlib.pyplot as plt\n",
    "sns.set()\n",
    "\n",
    "from plotly.offline import init_notebook_mode, iplot\n",
    "init_notebook_mode(connected=True)\n",
    "import plotly.graph_objs as go\n",
    "import plotly.express as px\n",
    "\n",
    "%matplotlib inline"
   ]
  },
  {
   "cell_type": "markdown",
   "metadata": {
    "papermill": {
     "duration": 0.04088,
     "end_time": "2023-08-20T23:15:07.420758",
     "exception": false,
     "start_time": "2023-08-20T23:15:07.379878",
     "status": "completed"
    },
    "tags": []
   },
   "source": [
    "# 1. Extract Data and Confirm Contents\n",
    "First, let's connect to Bigquery and see what kind of data we'll be working with and how it's structured."
   ]
  },
  {
   "cell_type": "code",
   "execution_count": 2,
   "metadata": {
    "_cell_guid": "79c7e3d0-c299-4dcb-8224-4455121ee9b0",
    "_uuid": "d629ff2d2480ee46fbb7e2d37f6b5fab8052498a",
    "execution": {
     "iopub.execute_input": "2023-08-20T23:15:07.509304Z",
     "iopub.status.busy": "2023-08-20T23:15:07.508308Z",
     "iopub.status.idle": "2023-08-20T23:15:07.871810Z",
     "shell.execute_reply": "2023-08-20T23:15:07.871135Z",
     "shell.execute_reply.started": "2023-08-20T23:08:26.228593Z"
    },
    "papermill": {
     "duration": 0.411124,
     "end_time": "2023-08-20T23:15:07.871948",
     "exception": false,
     "start_time": "2023-08-20T23:15:07.460824",
     "status": "completed"
    },
    "tags": []
   },
   "outputs": [
    {
     "name": "stdout",
     "output_type": "stream",
     "text": [
      "Using Kaggle's public dataset BigQuery integration.\n"
     ]
    }
   ],
   "source": [
    "from google.cloud import bigquery\n",
    "\n",
    "# Create client object\n",
    "client = bigquery.Client()\n",
    "\n",
    "# Create dataset reference\n",
    "dataset_ref = client.dataset('google_analytics_sample', project='bigquery-public-data')\n",
    "\n",
    "# Retrieve dataset from reference\n",
    "dataset = client.get_dataset(dataset_ref)"
   ]
  },
  {
   "cell_type": "code",
   "execution_count": 3,
   "metadata": {
    "execution": {
     "iopub.execute_input": "2023-08-20T23:15:07.963889Z",
     "iopub.status.busy": "2023-08-20T23:15:07.963229Z",
     "iopub.status.idle": "2023-08-20T23:15:10.271453Z",
     "shell.execute_reply": "2023-08-20T23:15:10.272003Z",
     "shell.execute_reply.started": "2023-08-20T23:08:26.731454Z"
    },
    "papermill": {
     "duration": 2.357989,
     "end_time": "2023-08-20T23:15:10.272167",
     "exception": false,
     "start_time": "2023-08-20T23:15:07.914178",
     "status": "completed"
    },
    "tags": []
   },
   "outputs": [
    {
     "data": {
      "text/plain": [
       "['ga_sessions_20160801',\n",
       " 'ga_sessions_20160802',\n",
       " 'ga_sessions_20160803',\n",
       " 'ga_sessions_20160804',\n",
       " 'ga_sessions_20160805']"
      ]
     },
     "execution_count": 3,
     "metadata": {},
     "output_type": "execute_result"
    }
   ],
   "source": [
    "# View tables in dataset\n",
    "[x.table_id for x in client.list_tables(dataset)][:5]"
   ]
  },
  {
   "cell_type": "code",
   "execution_count": 4,
   "metadata": {
    "execution": {
     "iopub.execute_input": "2023-08-20T23:15:10.364762Z",
     "iopub.status.busy": "2023-08-20T23:15:10.364004Z",
     "iopub.status.idle": "2023-08-20T23:15:12.614366Z",
     "shell.execute_reply": "2023-08-20T23:15:12.615280Z",
     "shell.execute_reply.started": "2023-08-20T23:08:31.353053Z"
    },
    "papermill": {
     "duration": 2.300872,
     "end_time": "2023-08-20T23:15:12.615499",
     "exception": false,
     "start_time": "2023-08-20T23:15:10.314627",
     "status": "completed"
    },
    "tags": []
   },
   "outputs": [
    {
     "data": {
      "text/html": [
       "<div>\n",
       "<style scoped>\n",
       "    .dataframe tbody tr th:only-of-type {\n",
       "        vertical-align: middle;\n",
       "    }\n",
       "\n",
       "    .dataframe tbody tr th {\n",
       "        vertical-align: top;\n",
       "    }\n",
       "\n",
       "    .dataframe thead th {\n",
       "        text-align: right;\n",
       "    }\n",
       "</style>\n",
       "<table border=\"1\" class=\"dataframe\">\n",
       "  <thead>\n",
       "    <tr style=\"text-align: right;\">\n",
       "      <th></th>\n",
       "      <th>visitorId</th>\n",
       "      <th>visitNumber</th>\n",
       "      <th>visitId</th>\n",
       "      <th>visitStartTime</th>\n",
       "      <th>date</th>\n",
       "      <th>totals</th>\n",
       "      <th>trafficSource</th>\n",
       "      <th>device</th>\n",
       "      <th>geoNetwork</th>\n",
       "      <th>customDimensions</th>\n",
       "      <th>hits</th>\n",
       "      <th>fullVisitorId</th>\n",
       "      <th>userId</th>\n",
       "      <th>channelGrouping</th>\n",
       "      <th>socialEngagementType</th>\n",
       "    </tr>\n",
       "  </thead>\n",
       "  <tbody>\n",
       "    <tr>\n",
       "      <th>0</th>\n",
       "      <td>None</td>\n",
       "      <td>1</td>\n",
       "      <td>1470046245</td>\n",
       "      <td>1470046245</td>\n",
       "      <td>20160801</td>\n",
       "      <td>{'visits': 1, 'hits': 24, 'pageviews': 17, 'ti...</td>\n",
       "      <td>{'referralPath': None, 'campaign': '(not set)'...</td>\n",
       "      <td>{'browser': 'Firefox', 'browserVersion': 'not ...</td>\n",
       "      <td>{'continent': 'Europe', 'subContinent': 'Weste...</td>\n",
       "      <td>[{'index': 4, 'value': 'EMEA'}]</td>\n",
       "      <td>[{'hitNumber': 1, 'time': 0, 'hour': 3, 'minut...</td>\n",
       "      <td>895954260133011192</td>\n",
       "      <td>None</td>\n",
       "      <td>Organic Search</td>\n",
       "      <td>Not Socially Engaged</td>\n",
       "    </tr>\n",
       "    <tr>\n",
       "      <th>1</th>\n",
       "      <td>None</td>\n",
       "      <td>1</td>\n",
       "      <td>1470084717</td>\n",
       "      <td>1470084717</td>\n",
       "      <td>20160801</td>\n",
       "      <td>{'visits': 1, 'hits': 24, 'pageviews': 18, 'ti...</td>\n",
       "      <td>{'referralPath': None, 'campaign': '(not set)'...</td>\n",
       "      <td>{'browser': 'Internet Explorer', 'browserVersi...</td>\n",
       "      <td>{'continent': 'Americas', 'subContinent': 'Nor...</td>\n",
       "      <td>[{'index': 4, 'value': 'North America'}]</td>\n",
       "      <td>[{'hitNumber': 1, 'time': 0, 'hour': 13, 'minu...</td>\n",
       "      <td>0288478011259077136</td>\n",
       "      <td>None</td>\n",
       "      <td>Direct</td>\n",
       "      <td>Not Socially Engaged</td>\n",
       "    </tr>\n",
       "    <tr>\n",
       "      <th>2</th>\n",
       "      <td>None</td>\n",
       "      <td>3</td>\n",
       "      <td>1470078988</td>\n",
       "      <td>1470078988</td>\n",
       "      <td>20160801</td>\n",
       "      <td>{'visits': 1, 'hits': 27, 'pageviews': 17, 'ti...</td>\n",
       "      <td>{'referralPath': None, 'campaign': '(not set)'...</td>\n",
       "      <td>{'browser': 'Safari', 'browserVersion': 'not a...</td>\n",
       "      <td>{'continent': 'Americas', 'subContinent': 'Nor...</td>\n",
       "      <td>[{'index': 4, 'value': 'North America'}]</td>\n",
       "      <td>[{'hitNumber': 1, 'time': 0, 'hour': 12, 'minu...</td>\n",
       "      <td>6440789996634275026</td>\n",
       "      <td>None</td>\n",
       "      <td>Organic Search</td>\n",
       "      <td>Not Socially Engaged</td>\n",
       "    </tr>\n",
       "    <tr>\n",
       "      <th>3</th>\n",
       "      <td>None</td>\n",
       "      <td>4</td>\n",
       "      <td>1470075581</td>\n",
       "      <td>1470075581</td>\n",
       "      <td>20160801</td>\n",
       "      <td>{'visits': 1, 'hits': 27, 'pageviews': 19, 'ti...</td>\n",
       "      <td>{'referralPath': '/', 'campaign': '(not set)',...</td>\n",
       "      <td>{'browser': 'Chrome', 'browserVersion': 'not a...</td>\n",
       "      <td>{'continent': 'Americas', 'subContinent': 'Nor...</td>\n",
       "      <td>[{'index': 4, 'value': 'North America'}]</td>\n",
       "      <td>[{'hitNumber': 1, 'time': 0, 'hour': 11, 'minu...</td>\n",
       "      <td>8520115029387302083</td>\n",
       "      <td>None</td>\n",
       "      <td>Referral</td>\n",
       "      <td>Not Socially Engaged</td>\n",
       "    </tr>\n",
       "    <tr>\n",
       "      <th>4</th>\n",
       "      <td>None</td>\n",
       "      <td>30</td>\n",
       "      <td>1470099026</td>\n",
       "      <td>1470099026</td>\n",
       "      <td>20160801</td>\n",
       "      <td>{'visits': 1, 'hits': 27, 'pageviews': 17, 'ti...</td>\n",
       "      <td>{'referralPath': None, 'campaign': '(not set)'...</td>\n",
       "      <td>{'browser': 'Chrome', 'browserVersion': 'not a...</td>\n",
       "      <td>{'continent': 'Americas', 'subContinent': 'Nor...</td>\n",
       "      <td>[{'index': 4, 'value': 'North America'}]</td>\n",
       "      <td>[{'hitNumber': 1, 'time': 0, 'hour': 17, 'minu...</td>\n",
       "      <td>6792260745822342947</td>\n",
       "      <td>None</td>\n",
       "      <td>Organic Search</td>\n",
       "      <td>Not Socially Engaged</td>\n",
       "    </tr>\n",
       "  </tbody>\n",
       "</table>\n",
       "</div>"
      ],
      "text/plain": [
       "  visitorId  visitNumber     visitId  visitStartTime      date  \\\n",
       "0      None            1  1470046245      1470046245  20160801   \n",
       "1      None            1  1470084717      1470084717  20160801   \n",
       "2      None            3  1470078988      1470078988  20160801   \n",
       "3      None            4  1470075581      1470075581  20160801   \n",
       "4      None           30  1470099026      1470099026  20160801   \n",
       "\n",
       "                                              totals  \\\n",
       "0  {'visits': 1, 'hits': 24, 'pageviews': 17, 'ti...   \n",
       "1  {'visits': 1, 'hits': 24, 'pageviews': 18, 'ti...   \n",
       "2  {'visits': 1, 'hits': 27, 'pageviews': 17, 'ti...   \n",
       "3  {'visits': 1, 'hits': 27, 'pageviews': 19, 'ti...   \n",
       "4  {'visits': 1, 'hits': 27, 'pageviews': 17, 'ti...   \n",
       "\n",
       "                                       trafficSource  \\\n",
       "0  {'referralPath': None, 'campaign': '(not set)'...   \n",
       "1  {'referralPath': None, 'campaign': '(not set)'...   \n",
       "2  {'referralPath': None, 'campaign': '(not set)'...   \n",
       "3  {'referralPath': '/', 'campaign': '(not set)',...   \n",
       "4  {'referralPath': None, 'campaign': '(not set)'...   \n",
       "\n",
       "                                              device  \\\n",
       "0  {'browser': 'Firefox', 'browserVersion': 'not ...   \n",
       "1  {'browser': 'Internet Explorer', 'browserVersi...   \n",
       "2  {'browser': 'Safari', 'browserVersion': 'not a...   \n",
       "3  {'browser': 'Chrome', 'browserVersion': 'not a...   \n",
       "4  {'browser': 'Chrome', 'browserVersion': 'not a...   \n",
       "\n",
       "                                          geoNetwork  \\\n",
       "0  {'continent': 'Europe', 'subContinent': 'Weste...   \n",
       "1  {'continent': 'Americas', 'subContinent': 'Nor...   \n",
       "2  {'continent': 'Americas', 'subContinent': 'Nor...   \n",
       "3  {'continent': 'Americas', 'subContinent': 'Nor...   \n",
       "4  {'continent': 'Americas', 'subContinent': 'Nor...   \n",
       "\n",
       "                           customDimensions  \\\n",
       "0           [{'index': 4, 'value': 'EMEA'}]   \n",
       "1  [{'index': 4, 'value': 'North America'}]   \n",
       "2  [{'index': 4, 'value': 'North America'}]   \n",
       "3  [{'index': 4, 'value': 'North America'}]   \n",
       "4  [{'index': 4, 'value': 'North America'}]   \n",
       "\n",
       "                                                hits        fullVisitorId  \\\n",
       "0  [{'hitNumber': 1, 'time': 0, 'hour': 3, 'minut...   895954260133011192   \n",
       "1  [{'hitNumber': 1, 'time': 0, 'hour': 13, 'minu...  0288478011259077136   \n",
       "2  [{'hitNumber': 1, 'time': 0, 'hour': 12, 'minu...  6440789996634275026   \n",
       "3  [{'hitNumber': 1, 'time': 0, 'hour': 11, 'minu...  8520115029387302083   \n",
       "4  [{'hitNumber': 1, 'time': 0, 'hour': 17, 'minu...  6792260745822342947   \n",
       "\n",
       "  userId channelGrouping  socialEngagementType  \n",
       "0   None  Organic Search  Not Socially Engaged  \n",
       "1   None          Direct  Not Socially Engaged  \n",
       "2   None  Organic Search  Not Socially Engaged  \n",
       "3   None        Referral  Not Socially Engaged  \n",
       "4   None  Organic Search  Not Socially Engaged  "
      ]
     },
     "execution_count": 4,
     "metadata": {},
     "output_type": "execute_result"
    }
   ],
   "source": [
    "# Create table reference\n",
    "table_ref_20160801 = dataset_ref.table('ga_sessions_20160801')\n",
    "\n",
    "# Retrieve table from reference\n",
    "table_20160801 = client.get_table(table_ref_20160801)\n",
    "\n",
    "# View columns\n",
    "client.list_rows(table_20160801, max_results=5).to_dataframe()"
   ]
  },
  {
   "cell_type": "markdown",
   "metadata": {
    "papermill": {
     "duration": 0.0529,
     "end_time": "2023-08-20T23:15:12.715719",
     "exception": false,
     "start_time": "2023-08-20T23:15:12.662819",
     "status": "completed"
    },
    "tags": []
   },
   "source": [
    "It looks like the totals, trafficSource, device, geoNetwork, customDimensions, and hits columns contain nested data.\n",
    "\n",
    "Let's check the schema for these columns and see what kind of data they contain."
   ]
  },
  {
   "cell_type": "code",
   "execution_count": 5,
   "metadata": {
    "execution": {
     "iopub.execute_input": "2023-08-20T23:15:12.813068Z",
     "iopub.status.busy": "2023-08-20T23:15:12.812315Z",
     "iopub.status.idle": "2023-08-20T23:15:12.836919Z",
     "shell.execute_reply": "2023-08-20T23:15:12.837920Z",
     "shell.execute_reply.started": "2023-08-20T23:08:34.165552Z"
    },
    "papermill": {
     "duration": 0.0777,
     "end_time": "2023-08-20T23:15:12.838142",
     "exception": false,
     "start_time": "2023-08-20T23:15:12.760442",
     "status": "completed"
    },
    "tags": []
   },
   "outputs": [
    {
     "name": "stdout",
     "output_type": "stream",
     "text": [
      "SCHEMA field for the 'totals' column:\n",
      "\n",
      "totals (RECORD)\n",
      "    visits (INTEGER)\n",
      "    hits (INTEGER)\n",
      "    pageviews (INTEGER)\n",
      "    timeOnSite (INTEGER)\n",
      "    bounces (INTEGER)\n",
      "    transactions (INTEGER)\n",
      "    transactionRevenue (INTEGER)\n",
      "    newVisits (INTEGER)\n",
      "    screenviews (INTEGER)\n",
      "    uniqueScreenviews (INTEGER)\n",
      "    timeOnScreen (INTEGER)\n",
      "    totalTransactionRevenue (INTEGER)\n",
      "    sessionQualityDim (INTEGER)\n",
      "\n",
      "\n",
      "SCHEMA field for the 'trafficSource' column:\n",
      "\n",
      "trafficSource (RECORD)\n",
      "    referralPath (STRING)\n",
      "    campaign (STRING)\n",
      "    source (STRING)\n",
      "    medium (STRING)\n",
      "    keyword (STRING)\n",
      "    adContent (STRING)\n",
      "    adwordsClickInfo (RECORD)\n",
      "        campaignId (INTEGER)\n",
      "        adGroupId (INTEGER)\n",
      "        creativeId (INTEGER)\n",
      "        criteriaId (INTEGER)\n",
      "        page (INTEGER)\n",
      "        slot (STRING)\n",
      "        criteriaParameters (STRING)\n",
      "        gclId (STRING)\n",
      "        customerId (INTEGER)\n",
      "        adNetworkType (STRING)\n",
      "        targetingCriteria (RECORD)\n",
      "            boomUserlistId (INTEGER)\n",
      "        isVideoAd (BOOLEAN)\n",
      "    isTrueDirect (BOOLEAN)\n",
      "    campaignCode (STRING)\n",
      "\n",
      "\n",
      "SCHEMA field for the 'device' column:\n",
      "\n",
      "device (RECORD)\n",
      "    browser (STRING)\n",
      "    browserVersion (STRING)\n",
      "    browserSize (STRING)\n",
      "    operatingSystem (STRING)\n",
      "    operatingSystemVersion (STRING)\n",
      "    isMobile (BOOLEAN)\n",
      "    mobileDeviceBranding (STRING)\n",
      "    mobileDeviceModel (STRING)\n",
      "    mobileInputSelector (STRING)\n",
      "    mobileDeviceInfo (STRING)\n",
      "    mobileDeviceMarketingName (STRING)\n",
      "    flashVersion (STRING)\n",
      "    javaEnabled (BOOLEAN)\n",
      "    language (STRING)\n",
      "    screenColors (STRING)\n",
      "    screenResolution (STRING)\n",
      "    deviceCategory (STRING)\n",
      "\n",
      "\n",
      "SCHEMA field for the 'geoNetwork' column:\n",
      "\n",
      "geoNetwork (RECORD)\n",
      "    continent (STRING)\n",
      "    subContinent (STRING)\n",
      "    country (STRING)\n",
      "    region (STRING)\n",
      "    metro (STRING)\n",
      "    city (STRING)\n",
      "    cityId (STRING)\n",
      "    networkDomain (STRING)\n",
      "    latitude (STRING)\n",
      "    longitude (STRING)\n",
      "    networkLocation (STRING)\n",
      "\n",
      "\n",
      "SCHEMA field for the 'customDimensions' column:\n",
      "\n",
      "customDimensions (RECORD) - REPEATED\n",
      "    index (INTEGER)\n",
      "    value (STRING)\n",
      "\n",
      "\n",
      "SCHEMA field for the 'hits' column:\n",
      "\n",
      "hits (RECORD) - REPEATED\n",
      "    hitNumber (INTEGER)\n",
      "    time (INTEGER)\n",
      "    hour (INTEGER)\n",
      "    minute (INTEGER)\n",
      "    isSecure (BOOLEAN)\n",
      "    isInteraction (BOOLEAN)\n",
      "    isEntrance (BOOLEAN)\n",
      "    isExit (BOOLEAN)\n",
      "    referer (STRING)\n",
      "    page (RECORD)\n",
      "        pagePath (STRING)\n",
      "        hostname (STRING)\n",
      "        pageTitle (STRING)\n",
      "        searchKeyword (STRING)\n",
      "        searchCategory (STRING)\n",
      "        pagePathLevel1 (STRING)\n",
      "        pagePathLevel2 (STRING)\n",
      "        pagePathLevel3 (STRING)\n",
      "        pagePathLevel4 (STRING)\n",
      "    transaction (RECORD)\n",
      "        transactionId (STRING)\n",
      "        transactionRevenue (INTEGER)\n",
      "        transactionTax (INTEGER)\n",
      "        transactionShipping (INTEGER)\n",
      "        affiliation (STRING)\n",
      "        currencyCode (STRING)\n",
      "        localTransactionRevenue (INTEGER)\n",
      "        localTransactionTax (INTEGER)\n",
      "        localTransactionShipping (INTEGER)\n",
      "        transactionCoupon (STRING)\n",
      "    item (RECORD)\n",
      "        transactionId (STRING)\n",
      "        productName (STRING)\n",
      "        productCategory (STRING)\n",
      "        productSku (STRING)\n",
      "        itemQuantity (INTEGER)\n",
      "        itemRevenue (INTEGER)\n",
      "        currencyCode (STRING)\n",
      "        localItemRevenue (INTEGER)\n",
      "    contentInfo (RECORD)\n",
      "        contentDescription (STRING)\n",
      "    appInfo (RECORD)\n",
      "        name (STRING)\n",
      "        version (STRING)\n",
      "        id (STRING)\n",
      "        installerId (STRING)\n",
      "        appInstallerId (STRING)\n",
      "        appName (STRING)\n",
      "        appVersion (STRING)\n",
      "        appId (STRING)\n",
      "        screenName (STRING)\n",
      "        landingScreenName (STRING)\n",
      "        exitScreenName (STRING)\n",
      "        screenDepth (STRING)\n",
      "    exceptionInfo (RECORD)\n",
      "        description (STRING)\n",
      "        isFatal (BOOLEAN)\n",
      "        exceptions (INTEGER)\n",
      "        fatalExceptions (INTEGER)\n",
      "    eventInfo (RECORD)\n",
      "        eventCategory (STRING)\n",
      "        eventAction (STRING)\n",
      "        eventLabel (STRING)\n",
      "        eventValue (INTEGER)\n",
      "    product (RECORD) - REPEATED\n",
      "        productSKU (STRING)\n",
      "        v2ProductName (STRING)\n",
      "        v2ProductCategory (STRING)\n",
      "        productVariant (STRING)\n",
      "        productBrand (STRING)\n",
      "        productRevenue (INTEGER)\n",
      "        localProductRevenue (INTEGER)\n",
      "        productPrice (INTEGER)\n",
      "        localProductPrice (INTEGER)\n",
      "        productQuantity (INTEGER)\n",
      "        productRefundAmount (INTEGER)\n",
      "        localProductRefundAmount (INTEGER)\n",
      "        isImpression (BOOLEAN)\n",
      "        isClick (BOOLEAN)\n",
      "        customDimensions (RECORD) - REPEATED\n",
      "            index (INTEGER)\n",
      "            value (STRING)\n",
      "        customMetrics (RECORD) - REPEATED\n",
      "            index (INTEGER)\n",
      "            value (INTEGER)\n",
      "        productListName (STRING)\n",
      "        productListPosition (INTEGER)\n",
      "    promotion (RECORD) - REPEATED\n",
      "        promoId (STRING)\n",
      "        promoName (STRING)\n",
      "        promoCreative (STRING)\n",
      "        promoPosition (STRING)\n",
      "    promotionActionInfo (RECORD)\n",
      "        promoIsView (BOOLEAN)\n",
      "        promoIsClick (BOOLEAN)\n",
      "    refund (RECORD)\n",
      "        refundAmount (INTEGER)\n",
      "        localRefundAmount (INTEGER)\n",
      "    eCommerceAction (RECORD)\n",
      "        action_type (STRING)\n",
      "        step (INTEGER)\n",
      "        option (STRING)\n",
      "    experiment (RECORD) - REPEATED\n",
      "        experimentId (STRING)\n",
      "        experimentVariant (STRING)\n",
      "    publisher (RECORD)\n",
      "        dfpClicks (INTEGER)\n",
      "        dfpImpressions (INTEGER)\n",
      "        dfpMatchedQueries (INTEGER)\n",
      "        dfpMeasurableImpressions (INTEGER)\n",
      "        dfpQueries (INTEGER)\n",
      "        dfpRevenueCpm (INTEGER)\n",
      "        dfpRevenueCpc (INTEGER)\n",
      "        dfpViewableImpressions (INTEGER)\n",
      "        dfpPagesViewed (INTEGER)\n",
      "        adsenseBackfillDfpClicks (INTEGER)\n",
      "        adsenseBackfillDfpImpressions (INTEGER)\n",
      "        adsenseBackfillDfpMatchedQueries (INTEGER)\n",
      "        adsenseBackfillDfpMeasurableImpressions (INTEGER)\n",
      "        adsenseBackfillDfpQueries (INTEGER)\n",
      "        adsenseBackfillDfpRevenueCpm (INTEGER)\n",
      "        adsenseBackfillDfpRevenueCpc (INTEGER)\n",
      "        adsenseBackfillDfpViewableImpressions (INTEGER)\n",
      "        adsenseBackfillDfpPagesViewed (INTEGER)\n",
      "        adxBackfillDfpClicks (INTEGER)\n",
      "        adxBackfillDfpImpressions (INTEGER)\n",
      "        adxBackfillDfpMatchedQueries (INTEGER)\n",
      "        adxBackfillDfpMeasurableImpressions (INTEGER)\n",
      "        adxBackfillDfpQueries (INTEGER)\n",
      "        adxBackfillDfpRevenueCpm (INTEGER)\n",
      "        adxBackfillDfpRevenueCpc (INTEGER)\n",
      "        adxBackfillDfpViewableImpressions (INTEGER)\n",
      "        adxBackfillDfpPagesViewed (INTEGER)\n",
      "        adxClicks (INTEGER)\n",
      "        adxImpressions (INTEGER)\n",
      "        adxMatchedQueries (INTEGER)\n",
      "        adxMeasurableImpressions (INTEGER)\n",
      "        adxQueries (INTEGER)\n",
      "        adxRevenue (INTEGER)\n",
      "        adxViewableImpressions (INTEGER)\n",
      "        adxPagesViewed (INTEGER)\n",
      "        adsViewed (INTEGER)\n",
      "        adsUnitsViewed (INTEGER)\n",
      "        adsUnitsMatched (INTEGER)\n",
      "        viewableAdsViewed (INTEGER)\n",
      "        measurableAdsViewed (INTEGER)\n",
      "        adsPagesViewed (INTEGER)\n",
      "        adsClicked (INTEGER)\n",
      "        adsRevenue (INTEGER)\n",
      "        dfpAdGroup (STRING)\n",
      "        dfpAdUnits (STRING)\n",
      "        dfpNetworkId (STRING)\n",
      "    customVariables (RECORD) - REPEATED\n",
      "        index (INTEGER)\n",
      "        customVarName (STRING)\n",
      "        customVarValue (STRING)\n",
      "    customDimensions (RECORD) - REPEATED\n",
      "        index (INTEGER)\n",
      "        value (STRING)\n",
      "    customMetrics (RECORD) - REPEATED\n",
      "        index (INTEGER)\n",
      "        value (INTEGER)\n",
      "    type (STRING)\n",
      "    social (RECORD)\n",
      "        socialInteractionNetwork (STRING)\n",
      "        socialInteractionAction (STRING)\n",
      "        socialInteractions (INTEGER)\n",
      "        socialInteractionTarget (STRING)\n",
      "        socialNetwork (STRING)\n",
      "        uniqueSocialInteractions (INTEGER)\n",
      "        hasSocialSourceReferral (STRING)\n",
      "        socialInteractionNetworkAction (STRING)\n",
      "    latencyTracking (RECORD)\n",
      "        pageLoadSample (INTEGER)\n",
      "        pageLoadTime (INTEGER)\n",
      "        pageDownloadTime (INTEGER)\n",
      "        redirectionTime (INTEGER)\n",
      "        speedMetricsSample (INTEGER)\n",
      "        domainLookupTime (INTEGER)\n",
      "        serverConnectionTime (INTEGER)\n",
      "        serverResponseTime (INTEGER)\n",
      "        domLatencyMetricsSample (INTEGER)\n",
      "        domInteractiveTime (INTEGER)\n",
      "        domContentLoadedTime (INTEGER)\n",
      "        userTimingValue (INTEGER)\n",
      "        userTimingSample (INTEGER)\n",
      "        userTimingVariable (STRING)\n",
      "        userTimingCategory (STRING)\n",
      "        userTimingLabel (STRING)\n",
      "    sourcePropertyInfo (RECORD)\n",
      "        sourcePropertyDisplayName (STRING)\n",
      "        sourcePropertyTrackingId (STRING)\n",
      "    contentGroup (RECORD)\n",
      "        contentGroup1 (STRING)\n",
      "        contentGroup2 (STRING)\n",
      "        contentGroup3 (STRING)\n",
      "        contentGroup4 (STRING)\n",
      "        contentGroup5 (STRING)\n",
      "        previousContentGroup1 (STRING)\n",
      "        previousContentGroup2 (STRING)\n",
      "        previousContentGroup3 (STRING)\n",
      "        previousContentGroup4 (STRING)\n",
      "        previousContentGroup5 (STRING)\n",
      "        contentGroupUniqueViews1 (INTEGER)\n",
      "        contentGroupUniqueViews2 (INTEGER)\n",
      "        contentGroupUniqueViews3 (INTEGER)\n",
      "        contentGroupUniqueViews4 (INTEGER)\n",
      "        contentGroupUniqueViews5 (INTEGER)\n",
      "    dataSource (STRING)\n",
      "    publisher_infos (RECORD) - REPEATED\n",
      "        dfpClicks (INTEGER)\n",
      "        dfpImpressions (INTEGER)\n",
      "        dfpMatchedQueries (INTEGER)\n",
      "        dfpMeasurableImpressions (INTEGER)\n",
      "        dfpQueries (INTEGER)\n",
      "        dfpRevenueCpm (INTEGER)\n",
      "        dfpRevenueCpc (INTEGER)\n",
      "        dfpViewableImpressions (INTEGER)\n",
      "        dfpPagesViewed (INTEGER)\n",
      "        adsenseBackfillDfpClicks (INTEGER)\n",
      "        adsenseBackfillDfpImpressions (INTEGER)\n",
      "        adsenseBackfillDfpMatchedQueries (INTEGER)\n",
      "        adsenseBackfillDfpMeasurableImpressions (INTEGER)\n",
      "        adsenseBackfillDfpQueries (INTEGER)\n",
      "        adsenseBackfillDfpRevenueCpm (INTEGER)\n",
      "        adsenseBackfillDfpRevenueCpc (INTEGER)\n",
      "        adsenseBackfillDfpViewableImpressions (INTEGER)\n",
      "        adsenseBackfillDfpPagesViewed (INTEGER)\n",
      "        adxBackfillDfpClicks (INTEGER)\n",
      "        adxBackfillDfpImpressions (INTEGER)\n",
      "        adxBackfillDfpMatchedQueries (INTEGER)\n",
      "        adxBackfillDfpMeasurableImpressions (INTEGER)\n",
      "        adxBackfillDfpQueries (INTEGER)\n",
      "        adxBackfillDfpRevenueCpm (INTEGER)\n",
      "        adxBackfillDfpRevenueCpc (INTEGER)\n",
      "        adxBackfillDfpViewableImpressions (INTEGER)\n",
      "        adxBackfillDfpPagesViewed (INTEGER)\n",
      "        adxClicks (INTEGER)\n",
      "        adxImpressions (INTEGER)\n",
      "        adxMatchedQueries (INTEGER)\n",
      "        adxMeasurableImpressions (INTEGER)\n",
      "        adxQueries (INTEGER)\n",
      "        adxRevenue (INTEGER)\n",
      "        adxViewableImpressions (INTEGER)\n",
      "        adxPagesViewed (INTEGER)\n",
      "        adsViewed (INTEGER)\n",
      "        adsUnitsViewed (INTEGER)\n",
      "        adsUnitsMatched (INTEGER)\n",
      "        viewableAdsViewed (INTEGER)\n",
      "        measurableAdsViewed (INTEGER)\n",
      "        adsPagesViewed (INTEGER)\n",
      "        adsClicked (INTEGER)\n",
      "        adsRevenue (INTEGER)\n",
      "        dfpAdGroup (STRING)\n",
      "        dfpAdUnits (STRING)\n",
      "        dfpNetworkId (STRING)\n"
     ]
    }
   ],
   "source": [
    "def format_schema_field(schema_field, indent=0):\n",
    "    indent_str = \"  \" * indent\n",
    "    field_info = f\"{indent_str}{schema_field.name} ({schema_field.field_type})\"\n",
    "    \n",
    "    if schema_field.mode != \"NULLABLE\":\n",
    "        field_info += f\" - {schema_field.mode}\"\n",
    "    \n",
    "    if schema_field.description:\n",
    "        field_info += f\" - {schema_field.description}\"\n",
    "    \n",
    "    nested_indent = indent + 2\n",
    "    if schema_field.field_type == \"RECORD\":\n",
    "        for sub_field in schema_field.fields:\n",
    "            field_info += \"\\n\" + format_schema_field(sub_field, nested_indent)\n",
    "    \n",
    "    return field_info\n",
    "\n",
    "# Display schemas\n",
    "print(\"SCHEMA field for the 'totals' column:\\n\")\n",
    "print(format_schema_field(table_20160801.schema[5]))\n",
    "print()\n",
    "\n",
    "print(\"\\nSCHEMA field for the 'trafficSource' column:\\n\")\n",
    "print(format_schema_field(table_20160801.schema[6]))\n",
    "print()\n",
    "\n",
    "print(\"\\nSCHEMA field for the 'device' column:\\n\")\n",
    "print(format_schema_field(table_20160801.schema[7]))\n",
    "print()\n",
    "\n",
    "print(\"\\nSCHEMA field for the 'geoNetwork' column:\\n\")\n",
    "print(format_schema_field(table_20160801.schema[8]))\n",
    "print()\n",
    "\n",
    "print(\"\\nSCHEMA field for the 'customDimensions' column:\\n\")\n",
    "print(format_schema_field(table_20160801.schema[9]))\n",
    "print()\n",
    "\n",
    "print(\"\\nSCHEMA field for the 'hits' column:\\n\")\n",
    "print(format_schema_field(table_20160801.schema[10]))"
   ]
  },
  {
   "cell_type": "markdown",
   "metadata": {
    "papermill": {
     "duration": 0.04549,
     "end_time": "2023-08-20T23:15:12.929608",
     "exception": false,
     "start_time": "2023-08-20T23:15:12.884118",
     "status": "completed"
    },
    "tags": []
   },
   "source": [
    "After checking the schema, we can see that the hits column contains page view, transaction, product, Google Ads, and other data. \n",
    "\n",
    "The full data dictionary can be found here: https://support.google.com/analytics/answer/3437719?hl=en"
   ]
  },
  {
   "cell_type": "markdown",
   "metadata": {
    "papermill": {
     "duration": 0.044275,
     "end_time": "2023-08-20T23:15:13.019189",
     "exception": false,
     "start_time": "2023-08-20T23:15:12.974914",
     "status": "completed"
    },
    "tags": []
   },
   "source": [
    "# 2. Make Our Goals Concrete\n",
    "After confirming the content and structure of the data that we'll be working with, we can now define our goals in more detail.\n",
    "\n",
    "* Analyze which pages are the most popular, as well as their bounce/exit rates\n",
    "* Examine number of sessions by browser and device \n",
    "* Explore the type and quality of site traffic\n",
    "* Identify the customer conversion path and any potential bottlenecks\n",
    "* Identify the best-selling product categories and forecast their demand"
   ]
  },
  {
   "cell_type": "markdown",
   "metadata": {
    "papermill": {
     "duration": 0.042925,
     "end_time": "2023-08-20T23:15:13.106334",
     "exception": false,
     "start_time": "2023-08-20T23:15:13.063409",
     "status": "completed"
    },
    "tags": []
   },
   "source": [
    "# 3. Explore and Analyze Data"
   ]
  },
  {
   "cell_type": "markdown",
   "metadata": {
    "papermill": {
     "duration": 0.044976,
     "end_time": "2023-08-20T23:15:13.194387",
     "exception": false,
     "start_time": "2023-08-20T23:15:13.149411",
     "status": "completed"
    },
    "tags": []
   },
   "source": [
    "## Most Popular Pages\n",
    "First, let's look at the most frequently visited landing pages and their respective bounce rates.\n",
    "\n",
    "The **bounce rate** is the number of bounces (sessions where the user entered the site and then immediately left) divided by the total number of sessions.\n",
    "\n",
    "A high bounce rate can indicate either:\n",
    "1. Users are not seeing what they expect when they enter the site, and Search Engine Optimization (SEO) needs to be done\n",
    "2. There is a functionality or display issue with the landing page"
   ]
  },
  {
   "cell_type": "code",
   "execution_count": 6,
   "metadata": {
    "execution": {
     "iopub.execute_input": "2023-08-20T23:15:13.286380Z",
     "iopub.status.busy": "2023-08-20T23:15:13.285372Z",
     "iopub.status.idle": "2023-08-20T23:15:27.009083Z",
     "shell.execute_reply": "2023-08-20T23:15:27.009598Z",
     "shell.execute_reply.started": "2023-08-20T23:08:34.193538Z"
    },
    "papermill": {
     "duration": 13.771222,
     "end_time": "2023-08-20T23:15:27.009772",
     "exception": false,
     "start_time": "2023-08-20T23:15:13.238550",
     "status": "completed"
    },
    "tags": []
   },
   "outputs": [
    {
     "data": {
      "text/html": [
       "<div>\n",
       "<style scoped>\n",
       "    .dataframe tbody tr th:only-of-type {\n",
       "        vertical-align: middle;\n",
       "    }\n",
       "\n",
       "    .dataframe tbody tr th {\n",
       "        vertical-align: top;\n",
       "    }\n",
       "\n",
       "    .dataframe thead th {\n",
       "        text-align: right;\n",
       "    }\n",
       "</style>\n",
       "<table border=\"1\" class=\"dataframe\">\n",
       "  <thead>\n",
       "    <tr style=\"text-align: right;\">\n",
       "      <th></th>\n",
       "      <th>landing_page</th>\n",
       "      <th>views</th>\n",
       "      <th>bounce_rate</th>\n",
       "    </tr>\n",
       "  </thead>\n",
       "  <tbody>\n",
       "    <tr>\n",
       "      <th>0</th>\n",
       "      <td>/home</td>\n",
       "      <td>612140</td>\n",
       "      <td>0.495475</td>\n",
       "    </tr>\n",
       "    <tr>\n",
       "      <th>1</th>\n",
       "      <td>/google+redesign/shop+by+brand/youtube</td>\n",
       "      <td>81512</td>\n",
       "      <td>0.562347</td>\n",
       "    </tr>\n",
       "    <tr>\n",
       "      <th>2</th>\n",
       "      <td>/google+redesign/apparel/men++s/men++s+t+shirts</td>\n",
       "      <td>20685</td>\n",
       "      <td>0.441141</td>\n",
       "    </tr>\n",
       "    <tr>\n",
       "      <th>3</th>\n",
       "      <td>/signin.html</td>\n",
       "      <td>16296</td>\n",
       "      <td>0.361622</td>\n",
       "    </tr>\n",
       "    <tr>\n",
       "      <th>4</th>\n",
       "      <td>/google+redesign/apparel/mens/mens+t+shirts</td>\n",
       "      <td>12691</td>\n",
       "      <td>0.475061</td>\n",
       "    </tr>\n",
       "    <tr>\n",
       "      <th>5</th>\n",
       "      <td>/basket.html</td>\n",
       "      <td>9431</td>\n",
       "      <td>0.454565</td>\n",
       "    </tr>\n",
       "    <tr>\n",
       "      <th>6</th>\n",
       "      <td>/google+redesign/drinkware</td>\n",
       "      <td>8833</td>\n",
       "      <td>0.533794</td>\n",
       "    </tr>\n",
       "    <tr>\n",
       "      <th>7</th>\n",
       "      <td>/google+redesign/bags</td>\n",
       "      <td>8608</td>\n",
       "      <td>0.451208</td>\n",
       "    </tr>\n",
       "    <tr>\n",
       "      <th>8</th>\n",
       "      <td>/google+redesign/apparel/men++s/men++s+outerwear</td>\n",
       "      <td>6345</td>\n",
       "      <td>0.432782</td>\n",
       "    </tr>\n",
       "    <tr>\n",
       "      <th>9</th>\n",
       "      <td>/google+redesign/apparel</td>\n",
       "      <td>6326</td>\n",
       "      <td>0.448150</td>\n",
       "    </tr>\n",
       "  </tbody>\n",
       "</table>\n",
       "</div>"
      ],
      "text/plain": [
       "                                       landing_page   views  bounce_rate\n",
       "0                                             /home  612140     0.495475\n",
       "1            /google+redesign/shop+by+brand/youtube   81512     0.562347\n",
       "2   /google+redesign/apparel/men++s/men++s+t+shirts   20685     0.441141\n",
       "3                                      /signin.html   16296     0.361622\n",
       "4       /google+redesign/apparel/mens/mens+t+shirts   12691     0.475061\n",
       "5                                      /basket.html    9431     0.454565\n",
       "6                        /google+redesign/drinkware    8833     0.533794\n",
       "7                             /google+redesign/bags    8608     0.451208\n",
       "8  /google+redesign/apparel/men++s/men++s+outerwear    6345     0.432782\n",
       "9                          /google+redesign/apparel    6326     0.448150"
      ]
     },
     "execution_count": 6,
     "metadata": {},
     "output_type": "execute_result"
    }
   ],
   "source": [
    "# 「ｈitＮumber=1」Indicates the first hit of a session\n",
    "query = \"\"\"\n",
    "        SELECT \n",
    "            hits.page.pagePath AS landing_page,\n",
    "            COUNT(*) AS views,\n",
    "            SUM(totals.bounces)/COUNT(*) AS bounce_rate\n",
    "        FROM \n",
    "            `bigquery-public-data.google_analytics_sample.ga_sessions_*`,\n",
    "            UNNEST(hits) AS hits\n",
    "        WHERE\n",
    "            _TABLE_SUFFIX BETWEEN '20160801' AND '20170801'\n",
    "        AND\n",
    "            hits.type='PAGE'\n",
    "        AND\n",
    "            hits.hitNumber=1\n",
    "        GROUP BY \n",
    "            landing_page\n",
    "        ORDER BY \n",
    "            views DESC\n",
    "        LIMIT 10\n",
    "        \"\"\"\n",
    "\n",
    "result = client.query(query).result().to_dataframe()\n",
    "result.head(10)"
   ]
  },
  {
   "cell_type": "markdown",
   "metadata": {
    "papermill": {
     "duration": 0.042333,
     "end_time": "2023-08-20T23:15:27.094625",
     "exception": false,
     "start_time": "2023-08-20T23:15:27.052292",
     "status": "completed"
    },
    "tags": []
   },
   "source": [
    "Looking at the bounce rates, it looks like Men's Apparel and Bags are comparatively lower than the other pages.\n",
    "\n",
    "We can also see that the YouTube and Drinkware pages have a lot of views, but have a high bounce rate, indicating either a problem with the page's functionality, or users not seeing what they were expecting to when they entered the site."
   ]
  },
  {
   "cell_type": "markdown",
   "metadata": {
    "papermill": {
     "duration": 0.042251,
     "end_time": "2023-08-20T23:15:27.181051",
     "exception": false,
     "start_time": "2023-08-20T23:15:27.138800",
     "status": "completed"
    },
    "tags": []
   },
   "source": [
    "Let's take a look at the exit rate next.\n",
    "\n",
    "The **exit rate** is similar to the bounce rate, except that it is calculated for all pages and not just landing pages. It is the number of exits (sessions where the user navigated to a page and then exited the site) divided by the total number of sessions.\n",
    "\n",
    "A high exit rate can indicate either:\n",
    "1. Users are not seeing what they expect when they navigate to a page\n",
    "2. There is a functionality or display issue with the page"
   ]
  },
  {
   "cell_type": "code",
   "execution_count": 7,
   "metadata": {
    "execution": {
     "iopub.execute_input": "2023-08-20T23:15:27.275438Z",
     "iopub.status.busy": "2023-08-20T23:15:27.271080Z",
     "iopub.status.idle": "2023-08-20T23:15:41.115233Z",
     "shell.execute_reply": "2023-08-20T23:15:41.114568Z",
     "shell.execute_reply.started": "2023-08-20T23:08:48.139004Z"
    },
    "papermill": {
     "duration": 13.889301,
     "end_time": "2023-08-20T23:15:41.115381",
     "exception": false,
     "start_time": "2023-08-20T23:15:27.226080",
     "status": "completed"
    },
    "tags": []
   },
   "outputs": [
    {
     "data": {
      "text/html": [
       "<div>\n",
       "<style scoped>\n",
       "    .dataframe tbody tr th:only-of-type {\n",
       "        vertical-align: middle;\n",
       "    }\n",
       "\n",
       "    .dataframe tbody tr th {\n",
       "        vertical-align: top;\n",
       "    }\n",
       "\n",
       "    .dataframe thead th {\n",
       "        text-align: right;\n",
       "    }\n",
       "</style>\n",
       "<table border=\"1\" class=\"dataframe\">\n",
       "  <thead>\n",
       "    <tr style=\"text-align: right;\">\n",
       "      <th></th>\n",
       "      <th>page</th>\n",
       "      <th>views</th>\n",
       "      <th>exit_rate</th>\n",
       "    </tr>\n",
       "  </thead>\n",
       "  <tbody>\n",
       "    <tr>\n",
       "      <th>0</th>\n",
       "      <td>/home</td>\n",
       "      <td>981285</td>\n",
       "      <td>0.309920</td>\n",
       "    </tr>\n",
       "    <tr>\n",
       "      <th>1</th>\n",
       "      <td>/basket.html</td>\n",
       "      <td>209360</td>\n",
       "      <td>0.020524</td>\n",
       "    </tr>\n",
       "    <tr>\n",
       "      <th>2</th>\n",
       "      <td>/google+redesign/shop+by+brand/youtube</td>\n",
       "      <td>145026</td>\n",
       "      <td>0.316198</td>\n",
       "    </tr>\n",
       "    <tr>\n",
       "      <th>3</th>\n",
       "      <td>/signin.html</td>\n",
       "      <td>101299</td>\n",
       "      <td>0.058322</td>\n",
       "    </tr>\n",
       "    <tr>\n",
       "      <th>4</th>\n",
       "      <td>/store.html</td>\n",
       "      <td>93551</td>\n",
       "      <td>0.025505</td>\n",
       "    </tr>\n",
       "    <tr>\n",
       "      <th>5</th>\n",
       "      <td>/google+redesign/apparel/men++s/men++s+t+shirts</td>\n",
       "      <td>67471</td>\n",
       "      <td>0.135392</td>\n",
       "    </tr>\n",
       "    <tr>\n",
       "      <th>6</th>\n",
       "      <td>/asearch.html</td>\n",
       "      <td>62380</td>\n",
       "      <td>0.031677</td>\n",
       "    </tr>\n",
       "    <tr>\n",
       "      <th>7</th>\n",
       "      <td>/google+redesign/electronics</td>\n",
       "      <td>56839</td>\n",
       "      <td>0.047116</td>\n",
       "    </tr>\n",
       "    <tr>\n",
       "      <th>8</th>\n",
       "      <td>/google+redesign/apparel</td>\n",
       "      <td>56552</td>\n",
       "      <td>0.050272</td>\n",
       "    </tr>\n",
       "    <tr>\n",
       "      <th>9</th>\n",
       "      <td>/google+redesign/bags</td>\n",
       "      <td>53686</td>\n",
       "      <td>0.072458</td>\n",
       "    </tr>\n",
       "  </tbody>\n",
       "</table>\n",
       "</div>"
      ],
      "text/plain": [
       "                                              page   views  exit_rate\n",
       "0                                            /home  981285   0.309920\n",
       "1                                     /basket.html  209360   0.020524\n",
       "2           /google+redesign/shop+by+brand/youtube  145026   0.316198\n",
       "3                                     /signin.html  101299   0.058322\n",
       "4                                      /store.html   93551   0.025505\n",
       "5  /google+redesign/apparel/men++s/men++s+t+shirts   67471   0.135392\n",
       "6                                    /asearch.html   62380   0.031677\n",
       "7                     /google+redesign/electronics   56839   0.047116\n",
       "8                         /google+redesign/apparel   56552   0.050272\n",
       "9                            /google+redesign/bags   53686   0.072458"
      ]
     },
     "execution_count": 7,
     "metadata": {},
     "output_type": "execute_result"
    }
   ],
   "source": [
    "query = \"\"\"\n",
    "        SELECT \n",
    "            hits.page.pagePath AS page,\n",
    "            COUNT(*) AS views,\n",
    "            SUM(totals.bounces)/COUNT(*) AS exit_rate\n",
    "        FROM \n",
    "            `bigquery-public-data.google_analytics_sample.ga_sessions_*`,\n",
    "            UNNEST(hits) AS hits\n",
    "        WHERE\n",
    "            _TABLE_SUFFIX BETWEEN '20160801' AND '20170801'\n",
    "        AND\n",
    "            hits.type='PAGE'\n",
    "        GROUP BY \n",
    "            page\n",
    "        ORDER BY \n",
    "            views DESC\n",
    "        LIMIT 10\n",
    "        \"\"\"\n",
    "\n",
    "result = client.query(query).result().to_dataframe()\n",
    "result.head(10)"
   ]
  },
  {
   "cell_type": "markdown",
   "metadata": {
    "papermill": {
     "duration": 0.045558,
     "end_time": "2023-08-20T23:15:41.205183",
     "exception": false,
     "start_time": "2023-08-20T23:15:41.159625",
     "status": "completed"
    },
    "tags": []
   },
   "source": [
    "Compared with other pages, exit rates for pages related to Men's Apparel are slightly high, and the exit rate for YouTube is very high."
   ]
  },
  {
   "cell_type": "markdown",
   "metadata": {
    "papermill": {
     "duration": 0.044857,
     "end_time": "2023-08-20T23:15:41.294335",
     "exception": false,
     "start_time": "2023-08-20T23:15:41.249478",
     "status": "completed"
    },
    "tags": []
   },
   "source": [
    "## Browser and Device\n",
    "Next, let's look at sessions by browser and device to see if there are any compatibility issues."
   ]
  },
  {
   "cell_type": "code",
   "execution_count": 8,
   "metadata": {
    "execution": {
     "iopub.execute_input": "2023-08-20T23:15:41.390340Z",
     "iopub.status.busy": "2023-08-20T23:15:41.389721Z",
     "iopub.status.idle": "2023-08-20T23:15:55.277643Z",
     "shell.execute_reply": "2023-08-20T23:15:55.276927Z",
     "shell.execute_reply.started": "2023-08-20T23:09:02.726177Z"
    },
    "papermill": {
     "duration": 13.939676,
     "end_time": "2023-08-20T23:15:55.277784",
     "exception": false,
     "start_time": "2023-08-20T23:15:41.338108",
     "status": "completed"
    },
    "tags": []
   },
   "outputs": [
    {
     "data": {
      "text/html": [
       "<div>\n",
       "<style scoped>\n",
       "    .dataframe tbody tr th:only-of-type {\n",
       "        vertical-align: middle;\n",
       "    }\n",
       "\n",
       "    .dataframe tbody tr th {\n",
       "        vertical-align: top;\n",
       "    }\n",
       "\n",
       "    .dataframe thead th {\n",
       "        text-align: right;\n",
       "    }\n",
       "</style>\n",
       "<table border=\"1\" class=\"dataframe\">\n",
       "  <thead>\n",
       "    <tr style=\"text-align: right;\">\n",
       "      <th></th>\n",
       "      <th>browser</th>\n",
       "      <th>sessions</th>\n",
       "      <th>exit_rate</th>\n",
       "    </tr>\n",
       "  </thead>\n",
       "  <tbody>\n",
       "    <tr>\n",
       "      <th>0</th>\n",
       "      <td>Chrome</td>\n",
       "      <td>3197849</td>\n",
       "      <td>0.091878</td>\n",
       "    </tr>\n",
       "    <tr>\n",
       "      <th>1</th>\n",
       "      <td>Safari</td>\n",
       "      <td>629906</td>\n",
       "      <td>0.157622</td>\n",
       "    </tr>\n",
       "    <tr>\n",
       "      <th>2</th>\n",
       "      <td>Firefox</td>\n",
       "      <td>133880</td>\n",
       "      <td>0.168195</td>\n",
       "    </tr>\n",
       "    <tr>\n",
       "      <th>3</th>\n",
       "      <td>Internet Explorer</td>\n",
       "      <td>62405</td>\n",
       "      <td>0.190369</td>\n",
       "    </tr>\n",
       "    <tr>\n",
       "      <th>4</th>\n",
       "      <td>Edge</td>\n",
       "      <td>38063</td>\n",
       "      <td>0.150934</td>\n",
       "    </tr>\n",
       "    <tr>\n",
       "      <th>5</th>\n",
       "      <td>Android Webview</td>\n",
       "      <td>25979</td>\n",
       "      <td>0.174872</td>\n",
       "    </tr>\n",
       "    <tr>\n",
       "      <th>6</th>\n",
       "      <td>Safari (in-app)</td>\n",
       "      <td>19037</td>\n",
       "      <td>0.213532</td>\n",
       "    </tr>\n",
       "    <tr>\n",
       "      <th>7</th>\n",
       "      <td>Opera</td>\n",
       "      <td>15439</td>\n",
       "      <td>0.209988</td>\n",
       "    </tr>\n",
       "    <tr>\n",
       "      <th>8</th>\n",
       "      <td>Opera Mini</td>\n",
       "      <td>12767</td>\n",
       "      <td>0.314639</td>\n",
       "    </tr>\n",
       "    <tr>\n",
       "      <th>9</th>\n",
       "      <td>UC Browser</td>\n",
       "      <td>5807</td>\n",
       "      <td>0.283968</td>\n",
       "    </tr>\n",
       "  </tbody>\n",
       "</table>\n",
       "</div>"
      ],
      "text/plain": [
       "             browser  sessions  exit_rate\n",
       "0             Chrome   3197849   0.091878\n",
       "1             Safari    629906   0.157622\n",
       "2            Firefox    133880   0.168195\n",
       "3  Internet Explorer     62405   0.190369\n",
       "4               Edge     38063   0.150934\n",
       "5    Android Webview     25979   0.174872\n",
       "6    Safari (in-app)     19037   0.213532\n",
       "7              Opera     15439   0.209988\n",
       "8         Opera Mini     12767   0.314639\n",
       "9         UC Browser      5807   0.283968"
      ]
     },
     "execution_count": 8,
     "metadata": {},
     "output_type": "execute_result"
    }
   ],
   "source": [
    "query = \"\"\"\n",
    "        SELECT \n",
    "            device.Browser AS browser,\n",
    "            COUNT(*) AS sessions,\n",
    "            SUM(totals.bounces)/COUNT(*) AS exit_rate\n",
    "        FROM \n",
    "            `bigquery-public-data.google_analytics_sample.ga_sessions_*`,\n",
    "            UNNEST(hits) AS hits\n",
    "        WHERE\n",
    "            _TABLE_SUFFIX BETWEEN '20160801' AND '20170801'\n",
    "        GROUP BY \n",
    "            browser\n",
    "        ORDER BY \n",
    "            sessions DESC\n",
    "        LIMIT 10\n",
    "        \"\"\"\n",
    "\n",
    "result = client.query(query).result().to_dataframe()\n",
    "result.head(10)"
   ]
  },
  {
   "cell_type": "markdown",
   "metadata": {
    "papermill": {
     "duration": 0.046348,
     "end_time": "2023-08-20T23:15:55.368793",
     "exception": false,
     "start_time": "2023-08-20T23:15:55.322445",
     "status": "completed"
    },
    "tags": []
   },
   "source": [
    "Among the top 5 browsers, the exit rate for Chrome is comparatively low at 9%, while the other browsers are roughly 7% - 8% higher with the exception of Internet Explorer, having an exit rate of 19%."
   ]
  },
  {
   "cell_type": "markdown",
   "metadata": {
    "papermill": {
     "duration": 0.043317,
     "end_time": "2023-08-20T23:15:55.456554",
     "exception": false,
     "start_time": "2023-08-20T23:15:55.413237",
     "status": "completed"
    },
    "tags": []
   },
   "source": [
    "Now let's check the devices."
   ]
  },
  {
   "cell_type": "code",
   "execution_count": 9,
   "metadata": {
    "execution": {
     "iopub.execute_input": "2023-08-20T23:15:55.554369Z",
     "iopub.status.busy": "2023-08-20T23:15:55.553684Z",
     "iopub.status.idle": "2023-08-20T23:16:10.541152Z",
     "shell.execute_reply": "2023-08-20T23:16:10.540607Z",
     "shell.execute_reply.started": "2023-08-20T23:09:16.465344Z"
    },
    "papermill": {
     "duration": 15.04077,
     "end_time": "2023-08-20T23:16:10.541269",
     "exception": false,
     "start_time": "2023-08-20T23:15:55.500499",
     "status": "completed"
    },
    "tags": []
   },
   "outputs": [
    {
     "data": {
      "text/html": [
       "<div>\n",
       "<style scoped>\n",
       "    .dataframe tbody tr th:only-of-type {\n",
       "        vertical-align: middle;\n",
       "    }\n",
       "\n",
       "    .dataframe tbody tr th {\n",
       "        vertical-align: top;\n",
       "    }\n",
       "\n",
       "    .dataframe thead th {\n",
       "        text-align: right;\n",
       "    }\n",
       "</style>\n",
       "<table border=\"1\" class=\"dataframe\">\n",
       "  <thead>\n",
       "    <tr style=\"text-align: right;\">\n",
       "      <th></th>\n",
       "      <th>device</th>\n",
       "      <th>sessions</th>\n",
       "      <th>exit_rate</th>\n",
       "    </tr>\n",
       "  </thead>\n",
       "  <tbody>\n",
       "    <tr>\n",
       "      <th>0</th>\n",
       "      <td>desktop</td>\n",
       "      <td>3171344</td>\n",
       "      <td>0.104038</td>\n",
       "    </tr>\n",
       "    <tr>\n",
       "      <th>1</th>\n",
       "      <td>mobile</td>\n",
       "      <td>838327</td>\n",
       "      <td>0.130486</td>\n",
       "    </tr>\n",
       "    <tr>\n",
       "      <th>2</th>\n",
       "      <td>tablet</td>\n",
       "      <td>144004</td>\n",
       "      <td>0.105907</td>\n",
       "    </tr>\n",
       "  </tbody>\n",
       "</table>\n",
       "</div>"
      ],
      "text/plain": [
       "    device  sessions  exit_rate\n",
       "0  desktop   3171344   0.104038\n",
       "1   mobile    838327   0.130486\n",
       "2   tablet    144004   0.105907"
      ]
     },
     "execution_count": 9,
     "metadata": {},
     "output_type": "execute_result"
    }
   ],
   "source": [
    "query = \"\"\"\n",
    "        SELECT \n",
    "            device.deviceCategory AS device,\n",
    "            COUNT(*) AS sessions,\n",
    "            SUM(totals.bounces)/COUNT(*) AS exit_rate\n",
    "        FROM \n",
    "            `bigquery-public-data.google_analytics_sample.ga_sessions_*`,\n",
    "            UNNEST(hits) AS hits\n",
    "        WHERE\n",
    "            _TABLE_SUFFIX BETWEEN '20160801' AND '20170801'\n",
    "        GROUP BY \n",
    "            device\n",
    "        ORDER BY \n",
    "            sessions DESC\n",
    "        \"\"\"\n",
    "\n",
    "result = client.query(query).result().to_dataframe()\n",
    "result.head(10)"
   ]
  },
  {
   "cell_type": "markdown",
   "metadata": {
    "papermill": {
     "duration": 0.046151,
     "end_time": "2023-08-20T23:16:10.633653",
     "exception": false,
     "start_time": "2023-08-20T23:16:10.587502",
     "status": "completed"
    },
    "tags": []
   },
   "source": [
    "Looking at the exit rates, we can see that Mobile is about 2.5% higher than other devices. It's possible that the site is not optimized for mobile viewing. "
   ]
  },
  {
   "cell_type": "markdown",
   "metadata": {
    "papermill": {
     "duration": 0.045933,
     "end_time": "2023-08-20T23:16:10.725159",
     "exception": false,
     "start_time": "2023-08-20T23:16:10.679226",
     "status": "completed"
    },
    "tags": []
   },
   "source": [
    "## Traffic Type and Quality\n",
    "Now let's examine session and transaction data for each source of traffic to our site."
   ]
  },
  {
   "cell_type": "code",
   "execution_count": 10,
   "metadata": {
    "execution": {
     "iopub.execute_input": "2023-08-20T23:16:10.824422Z",
     "iopub.status.busy": "2023-08-20T23:16:10.823747Z",
     "iopub.status.idle": "2023-08-20T23:16:24.618085Z",
     "shell.execute_reply": "2023-08-20T23:16:24.617421Z",
     "shell.execute_reply.started": "2023-08-20T23:09:30.972820Z"
    },
    "papermill": {
     "duration": 13.848691,
     "end_time": "2023-08-20T23:16:24.618200",
     "exception": false,
     "start_time": "2023-08-20T23:16:10.769509",
     "status": "completed"
    },
    "tags": []
   },
   "outputs": [
    {
     "data": {
      "text/html": [
       "<div>\n",
       "<style scoped>\n",
       "    .dataframe tbody tr th:only-of-type {\n",
       "        vertical-align: middle;\n",
       "    }\n",
       "\n",
       "    .dataframe tbody tr th {\n",
       "        vertical-align: top;\n",
       "    }\n",
       "\n",
       "    .dataframe thead th {\n",
       "        text-align: right;\n",
       "    }\n",
       "</style>\n",
       "<table border=\"1\" class=\"dataframe\">\n",
       "  <thead>\n",
       "    <tr style=\"text-align: right;\">\n",
       "      <th></th>\n",
       "      <th>medium</th>\n",
       "      <th>sessions</th>\n",
       "      <th>exit_rate</th>\n",
       "      <th>transactions</th>\n",
       "      <th>total_revenue</th>\n",
       "      <th>conversion_rate</th>\n",
       "    </tr>\n",
       "  </thead>\n",
       "  <tbody>\n",
       "    <tr>\n",
       "      <th>0</th>\n",
       "      <td>(none)</td>\n",
       "      <td>2246040</td>\n",
       "      <td>0.069684</td>\n",
       "      <td>363228</td>\n",
       "      <td>69842914.68</td>\n",
       "      <td>0.161719</td>\n",
       "    </tr>\n",
       "    <tr>\n",
       "      <th>1</th>\n",
       "      <td>organic</td>\n",
       "      <td>1141113</td>\n",
       "      <td>0.101857</td>\n",
       "      <td>97332</td>\n",
       "      <td>19504702.25</td>\n",
       "      <td>0.085296</td>\n",
       "    </tr>\n",
       "    <tr>\n",
       "      <th>2</th>\n",
       "      <td>referral</td>\n",
       "      <td>580309</td>\n",
       "      <td>0.285806</td>\n",
       "      <td>22040</td>\n",
       "      <td>3501224.27</td>\n",
       "      <td>0.037980</td>\n",
       "    </tr>\n",
       "    <tr>\n",
       "      <th>3</th>\n",
       "      <td>cpc</td>\n",
       "      <td>88591</td>\n",
       "      <td>0.055028</td>\n",
       "      <td>9457</td>\n",
       "      <td>1528330.72</td>\n",
       "      <td>0.106749</td>\n",
       "    </tr>\n",
       "    <tr>\n",
       "      <th>4</th>\n",
       "      <td>affiliate</td>\n",
       "      <td>55860</td>\n",
       "      <td>0.157698</td>\n",
       "      <td>334</td>\n",
       "      <td>29118.69</td>\n",
       "      <td>0.005979</td>\n",
       "    </tr>\n",
       "    <tr>\n",
       "      <th>5</th>\n",
       "      <td>cpm</td>\n",
       "      <td>41253</td>\n",
       "      <td>0.054372</td>\n",
       "      <td>5951</td>\n",
       "      <td>8676307.66</td>\n",
       "      <td>0.144256</td>\n",
       "    </tr>\n",
       "    <tr>\n",
       "      <th>6</th>\n",
       "      <td>(not set)</td>\n",
       "      <td>509</td>\n",
       "      <td>0.108055</td>\n",
       "      <td>17</td>\n",
       "      <td>203.83</td>\n",
       "      <td>0.033399</td>\n",
       "    </tr>\n",
       "  </tbody>\n",
       "</table>\n",
       "</div>"
      ],
      "text/plain": [
       "      medium  sessions  exit_rate  transactions  total_revenue  \\\n",
       "0     (none)   2246040   0.069684        363228    69842914.68   \n",
       "1    organic   1141113   0.101857         97332    19504702.25   \n",
       "2   referral    580309   0.285806         22040     3501224.27   \n",
       "3        cpc     88591   0.055028          9457     1528330.72   \n",
       "4  affiliate     55860   0.157698           334       29118.69   \n",
       "5        cpm     41253   0.054372          5951     8676307.66   \n",
       "6  (not set)       509   0.108055            17         203.83   \n",
       "\n",
       "   conversion_rate  \n",
       "0         0.161719  \n",
       "1         0.085296  \n",
       "2         0.037980  \n",
       "3         0.106749  \n",
       "4         0.005979  \n",
       "5         0.144256  \n",
       "6         0.033399  "
      ]
     },
     "execution_count": 10,
     "metadata": {},
     "output_type": "execute_result"
    }
   ],
   "source": [
    "query = \"\"\"\n",
    "        SELECT \n",
    "            trafficSource.medium AS medium,\n",
    "            COUNT(*) AS sessions,\n",
    "            SUM(totals.bounces)/COUNT(*) AS exit_rate,\n",
    "            SUM(totals.transactions) AS transactions,\n",
    "            SUM(totals.totalTransactionRevenue)/1000000 AS total_revenue,\n",
    "            SUM(totals.transactions)/COUNT(*) AS conversion_rate\n",
    "        FROM \n",
    "            `bigquery-public-data.google_analytics_sample.ga_sessions_*`,\n",
    "            UNNEST(hits) AS hits\n",
    "        WHERE\n",
    "            _TABLE_SUFFIX BETWEEN '20160801' AND '20170801'\n",
    "        GROUP BY\n",
    "            medium\n",
    "        ORDER BY\n",
    "            sessions DESC\n",
    "        \"\"\"\n",
    "\n",
    "result = client.query(query).result().to_dataframe()\n",
    "result.head(10)"
   ]
  },
  {
   "cell_type": "markdown",
   "metadata": {
    "papermill": {
     "duration": 0.046765,
     "end_time": "2023-08-20T23:16:24.711205",
     "exception": false,
     "start_time": "2023-08-20T23:16:24.664440",
     "status": "completed"
    },
    "tags": []
   },
   "source": [
    "It looks like most traffic is either Organic or Referral.\n",
    "\n",
    "We can also see that the conversion rate for CPC and CPM is quite high compared to other sources.\n",
    "\n",
    "\n",
    "Here the **conversion rate** refers to the percentage of sessions that resulted in a transaction being completed."
   ]
  },
  {
   "cell_type": "markdown",
   "metadata": {
    "papermill": {
     "duration": 0.047712,
     "end_time": "2023-08-20T23:16:24.805203",
     "exception": false,
     "start_time": "2023-08-20T23:16:24.757491",
     "status": "completed"
    },
    "tags": []
   },
   "source": [
    "## Identify Conversion Path and Possible Bottlenecks\n",
    "Next, we will identify the customer's conversion path through the site, as well as areas in the conversion process where users are leaving the site."
   ]
  },
  {
   "cell_type": "code",
   "execution_count": 11,
   "metadata": {
    "execution": {
     "iopub.execute_input": "2023-08-20T23:16:24.913190Z",
     "iopub.status.busy": "2023-08-20T23:16:24.912409Z",
     "iopub.status.idle": "2023-08-20T23:16:37.190133Z",
     "shell.execute_reply": "2023-08-20T23:16:37.189501Z",
     "shell.execute_reply.started": "2023-08-20T23:09:46.542894Z"
    },
    "papermill": {
     "duration": 12.335479,
     "end_time": "2023-08-20T23:16:37.190272",
     "exception": false,
     "start_time": "2023-08-20T23:16:24.854793",
     "status": "completed"
    },
    "tags": []
   },
   "outputs": [
    {
     "data": {
      "text/html": [
       "<div>\n",
       "<style scoped>\n",
       "    .dataframe tbody tr th:only-of-type {\n",
       "        vertical-align: middle;\n",
       "    }\n",
       "\n",
       "    .dataframe tbody tr th {\n",
       "        vertical-align: top;\n",
       "    }\n",
       "\n",
       "    .dataframe thead th {\n",
       "        text-align: right;\n",
       "    }\n",
       "</style>\n",
       "<table border=\"1\" class=\"dataframe\">\n",
       "  <thead>\n",
       "    <tr style=\"text-align: right;\">\n",
       "      <th></th>\n",
       "      <th>action</th>\n",
       "      <th>users</th>\n",
       "    </tr>\n",
       "  </thead>\n",
       "  <tbody>\n",
       "    <tr>\n",
       "      <th>0</th>\n",
       "      <td>Click through of product lists</td>\n",
       "      <td>445760</td>\n",
       "    </tr>\n",
       "    <tr>\n",
       "      <th>1</th>\n",
       "      <td>Product detail views</td>\n",
       "      <td>362607</td>\n",
       "    </tr>\n",
       "    <tr>\n",
       "      <th>2</th>\n",
       "      <td>Check out</td>\n",
       "      <td>248936</td>\n",
       "    </tr>\n",
       "    <tr>\n",
       "      <th>3</th>\n",
       "      <td>Completed purchase</td>\n",
       "      <td>74457</td>\n",
       "    </tr>\n",
       "  </tbody>\n",
       "</table>\n",
       "</div>"
      ],
      "text/plain": [
       "                           action   users\n",
       "0  Click through of product lists  445760\n",
       "1            Product detail views  362607\n",
       "2                       Check out  248936\n",
       "3              Completed purchase   74457"
      ]
     },
     "execution_count": 11,
     "metadata": {},
     "output_type": "execute_result"
    }
   ],
   "source": [
    "# Aggregate hits by action type\n",
    "query = \"\"\"\n",
    "        SELECT \n",
    "            CASE WHEN hits.eCommerceAction.action_type = '1' THEN 'Click through of product lists'\n",
    "                 WHEN hits.eCommerceAction.action_type = '2' THEN 'Product detail views'\n",
    "                 WHEN hits.eCommerceAction.action_type = '5' THEN 'Check out'\n",
    "                 WHEN hits.eCommerceAction.action_type = '6' THEN 'Completed purchase'\n",
    "            END AS action,\n",
    "            COUNT(fullVisitorID) AS users,\n",
    "        FROM \n",
    "            `bigquery-public-data.google_analytics_sample.ga_sessions_*`,\n",
    "            UNNEST(hits) AS hits,\n",
    "            UNNEST(hits.product) AS product\n",
    "        WHERE\n",
    "            _TABLE_SUFFIX BETWEEN '20160801' AND '20170801'\n",
    "        AND\n",
    "            (\n",
    "            hits.eCommerceAction.action_type != '0' \n",
    "            AND \n",
    "            hits.eCommerceAction.action_type != '3' \n",
    "            AND \n",
    "            hits.eCommerceAction.action_type != '4'\n",
    "            )\n",
    "        GROUP BY \n",
    "            action\n",
    "        ORDER BY \n",
    "            users DESC\n",
    "        \"\"\"\n",
    "\n",
    "result = client.query(query).result().to_dataframe()\n",
    "result.head(10)"
   ]
  },
  {
   "cell_type": "code",
   "execution_count": 12,
   "metadata": {
    "execution": {
     "iopub.execute_input": "2023-08-20T23:16:37.292842Z",
     "iopub.status.busy": "2023-08-20T23:16:37.292096Z",
     "iopub.status.idle": "2023-08-20T23:16:37.351777Z",
     "shell.execute_reply": "2023-08-20T23:16:37.351139Z",
     "shell.execute_reply.started": "2023-08-20T23:10:03.170880Z"
    },
    "papermill": {
     "duration": 0.113646,
     "end_time": "2023-08-20T23:16:37.351900",
     "exception": false,
     "start_time": "2023-08-20T23:16:37.238254",
     "status": "completed"
    },
    "tags": []
   },
   "outputs": [
    {
     "data": {
      "application/vnd.plotly.v1+json": {
       "config": {
        "plotlyServerURL": "https://plot.ly"
       },
       "data": [
        {
         "textinfo": "value+percent initial",
         "textposition": "inside",
         "type": "funnel",
         "x": [
          445760,
          362607,
          248936,
          74457
         ],
         "y": [
          "Click through of product lists",
          "Product detail views",
          "Check out",
          "Completed purchase"
         ]
        }
       ],
       "layout": {
        "height": 400,
        "template": {
         "data": {
          "bar": [
           {
            "error_x": {
             "color": "#2a3f5f"
            },
            "error_y": {
             "color": "#2a3f5f"
            },
            "marker": {
             "line": {
              "color": "#E5ECF6",
              "width": 0.5
             }
            },
            "type": "bar"
           }
          ],
          "barpolar": [
           {
            "marker": {
             "line": {
              "color": "#E5ECF6",
              "width": 0.5
             }
            },
            "type": "barpolar"
           }
          ],
          "carpet": [
           {
            "aaxis": {
             "endlinecolor": "#2a3f5f",
             "gridcolor": "white",
             "linecolor": "white",
             "minorgridcolor": "white",
             "startlinecolor": "#2a3f5f"
            },
            "baxis": {
             "endlinecolor": "#2a3f5f",
             "gridcolor": "white",
             "linecolor": "white",
             "minorgridcolor": "white",
             "startlinecolor": "#2a3f5f"
            },
            "type": "carpet"
           }
          ],
          "choropleth": [
           {
            "colorbar": {
             "outlinewidth": 0,
             "ticks": ""
            },
            "type": "choropleth"
           }
          ],
          "contour": [
           {
            "colorbar": {
             "outlinewidth": 0,
             "ticks": ""
            },
            "colorscale": [
             [
              0.0,
              "#0d0887"
             ],
             [
              0.1111111111111111,
              "#46039f"
             ],
             [
              0.2222222222222222,
              "#7201a8"
             ],
             [
              0.3333333333333333,
              "#9c179e"
             ],
             [
              0.4444444444444444,
              "#bd3786"
             ],
             [
              0.5555555555555556,
              "#d8576b"
             ],
             [
              0.6666666666666666,
              "#ed7953"
             ],
             [
              0.7777777777777778,
              "#fb9f3a"
             ],
             [
              0.8888888888888888,
              "#fdca26"
             ],
             [
              1.0,
              "#f0f921"
             ]
            ],
            "type": "contour"
           }
          ],
          "contourcarpet": [
           {
            "colorbar": {
             "outlinewidth": 0,
             "ticks": ""
            },
            "type": "contourcarpet"
           }
          ],
          "heatmap": [
           {
            "colorbar": {
             "outlinewidth": 0,
             "ticks": ""
            },
            "colorscale": [
             [
              0.0,
              "#0d0887"
             ],
             [
              0.1111111111111111,
              "#46039f"
             ],
             [
              0.2222222222222222,
              "#7201a8"
             ],
             [
              0.3333333333333333,
              "#9c179e"
             ],
             [
              0.4444444444444444,
              "#bd3786"
             ],
             [
              0.5555555555555556,
              "#d8576b"
             ],
             [
              0.6666666666666666,
              "#ed7953"
             ],
             [
              0.7777777777777778,
              "#fb9f3a"
             ],
             [
              0.8888888888888888,
              "#fdca26"
             ],
             [
              1.0,
              "#f0f921"
             ]
            ],
            "type": "heatmap"
           }
          ],
          "heatmapgl": [
           {
            "colorbar": {
             "outlinewidth": 0,
             "ticks": ""
            },
            "colorscale": [
             [
              0.0,
              "#0d0887"
             ],
             [
              0.1111111111111111,
              "#46039f"
             ],
             [
              0.2222222222222222,
              "#7201a8"
             ],
             [
              0.3333333333333333,
              "#9c179e"
             ],
             [
              0.4444444444444444,
              "#bd3786"
             ],
             [
              0.5555555555555556,
              "#d8576b"
             ],
             [
              0.6666666666666666,
              "#ed7953"
             ],
             [
              0.7777777777777778,
              "#fb9f3a"
             ],
             [
              0.8888888888888888,
              "#fdca26"
             ],
             [
              1.0,
              "#f0f921"
             ]
            ],
            "type": "heatmapgl"
           }
          ],
          "histogram": [
           {
            "marker": {
             "colorbar": {
              "outlinewidth": 0,
              "ticks": ""
             }
            },
            "type": "histogram"
           }
          ],
          "histogram2d": [
           {
            "colorbar": {
             "outlinewidth": 0,
             "ticks": ""
            },
            "colorscale": [
             [
              0.0,
              "#0d0887"
             ],
             [
              0.1111111111111111,
              "#46039f"
             ],
             [
              0.2222222222222222,
              "#7201a8"
             ],
             [
              0.3333333333333333,
              "#9c179e"
             ],
             [
              0.4444444444444444,
              "#bd3786"
             ],
             [
              0.5555555555555556,
              "#d8576b"
             ],
             [
              0.6666666666666666,
              "#ed7953"
             ],
             [
              0.7777777777777778,
              "#fb9f3a"
             ],
             [
              0.8888888888888888,
              "#fdca26"
             ],
             [
              1.0,
              "#f0f921"
             ]
            ],
            "type": "histogram2d"
           }
          ],
          "histogram2dcontour": [
           {
            "colorbar": {
             "outlinewidth": 0,
             "ticks": ""
            },
            "colorscale": [
             [
              0.0,
              "#0d0887"
             ],
             [
              0.1111111111111111,
              "#46039f"
             ],
             [
              0.2222222222222222,
              "#7201a8"
             ],
             [
              0.3333333333333333,
              "#9c179e"
             ],
             [
              0.4444444444444444,
              "#bd3786"
             ],
             [
              0.5555555555555556,
              "#d8576b"
             ],
             [
              0.6666666666666666,
              "#ed7953"
             ],
             [
              0.7777777777777778,
              "#fb9f3a"
             ],
             [
              0.8888888888888888,
              "#fdca26"
             ],
             [
              1.0,
              "#f0f921"
             ]
            ],
            "type": "histogram2dcontour"
           }
          ],
          "mesh3d": [
           {
            "colorbar": {
             "outlinewidth": 0,
             "ticks": ""
            },
            "type": "mesh3d"
           }
          ],
          "parcoords": [
           {
            "line": {
             "colorbar": {
              "outlinewidth": 0,
              "ticks": ""
             }
            },
            "type": "parcoords"
           }
          ],
          "pie": [
           {
            "automargin": true,
            "type": "pie"
           }
          ],
          "scatter": [
           {
            "marker": {
             "colorbar": {
              "outlinewidth": 0,
              "ticks": ""
             }
            },
            "type": "scatter"
           }
          ],
          "scatter3d": [
           {
            "line": {
             "colorbar": {
              "outlinewidth": 0,
              "ticks": ""
             }
            },
            "marker": {
             "colorbar": {
              "outlinewidth": 0,
              "ticks": ""
             }
            },
            "type": "scatter3d"
           }
          ],
          "scattercarpet": [
           {
            "marker": {
             "colorbar": {
              "outlinewidth": 0,
              "ticks": ""
             }
            },
            "type": "scattercarpet"
           }
          ],
          "scattergeo": [
           {
            "marker": {
             "colorbar": {
              "outlinewidth": 0,
              "ticks": ""
             }
            },
            "type": "scattergeo"
           }
          ],
          "scattergl": [
           {
            "marker": {
             "colorbar": {
              "outlinewidth": 0,
              "ticks": ""
             }
            },
            "type": "scattergl"
           }
          ],
          "scattermapbox": [
           {
            "marker": {
             "colorbar": {
              "outlinewidth": 0,
              "ticks": ""
             }
            },
            "type": "scattermapbox"
           }
          ],
          "scatterpolar": [
           {
            "marker": {
             "colorbar": {
              "outlinewidth": 0,
              "ticks": ""
             }
            },
            "type": "scatterpolar"
           }
          ],
          "scatterpolargl": [
           {
            "marker": {
             "colorbar": {
              "outlinewidth": 0,
              "ticks": ""
             }
            },
            "type": "scatterpolargl"
           }
          ],
          "scatterternary": [
           {
            "marker": {
             "colorbar": {
              "outlinewidth": 0,
              "ticks": ""
             }
            },
            "type": "scatterternary"
           }
          ],
          "surface": [
           {
            "colorbar": {
             "outlinewidth": 0,
             "ticks": ""
            },
            "colorscale": [
             [
              0.0,
              "#0d0887"
             ],
             [
              0.1111111111111111,
              "#46039f"
             ],
             [
              0.2222222222222222,
              "#7201a8"
             ],
             [
              0.3333333333333333,
              "#9c179e"
             ],
             [
              0.4444444444444444,
              "#bd3786"
             ],
             [
              0.5555555555555556,
              "#d8576b"
             ],
             [
              0.6666666666666666,
              "#ed7953"
             ],
             [
              0.7777777777777778,
              "#fb9f3a"
             ],
             [
              0.8888888888888888,
              "#fdca26"
             ],
             [
              1.0,
              "#f0f921"
             ]
            ],
            "type": "surface"
           }
          ],
          "table": [
           {
            "cells": {
             "fill": {
              "color": "#EBF0F8"
             },
             "line": {
              "color": "white"
             }
            },
            "header": {
             "fill": {
              "color": "#C8D4E3"
             },
             "line": {
              "color": "white"
             }
            },
            "type": "table"
           }
          ]
         },
         "layout": {
          "annotationdefaults": {
           "arrowcolor": "#2a3f5f",
           "arrowhead": 0,
           "arrowwidth": 1
          },
          "coloraxis": {
           "colorbar": {
            "outlinewidth": 0,
            "ticks": ""
           }
          },
          "colorscale": {
           "diverging": [
            [
             0,
             "#8e0152"
            ],
            [
             0.1,
             "#c51b7d"
            ],
            [
             0.2,
             "#de77ae"
            ],
            [
             0.3,
             "#f1b6da"
            ],
            [
             0.4,
             "#fde0ef"
            ],
            [
             0.5,
             "#f7f7f7"
            ],
            [
             0.6,
             "#e6f5d0"
            ],
            [
             0.7,
             "#b8e186"
            ],
            [
             0.8,
             "#7fbc41"
            ],
            [
             0.9,
             "#4d9221"
            ],
            [
             1,
             "#276419"
            ]
           ],
           "sequential": [
            [
             0.0,
             "#0d0887"
            ],
            [
             0.1111111111111111,
             "#46039f"
            ],
            [
             0.2222222222222222,
             "#7201a8"
            ],
            [
             0.3333333333333333,
             "#9c179e"
            ],
            [
             0.4444444444444444,
             "#bd3786"
            ],
            [
             0.5555555555555556,
             "#d8576b"
            ],
            [
             0.6666666666666666,
             "#ed7953"
            ],
            [
             0.7777777777777778,
             "#fb9f3a"
            ],
            [
             0.8888888888888888,
             "#fdca26"
            ],
            [
             1.0,
             "#f0f921"
            ]
           ],
           "sequentialminus": [
            [
             0.0,
             "#0d0887"
            ],
            [
             0.1111111111111111,
             "#46039f"
            ],
            [
             0.2222222222222222,
             "#7201a8"
            ],
            [
             0.3333333333333333,
             "#9c179e"
            ],
            [
             0.4444444444444444,
             "#bd3786"
            ],
            [
             0.5555555555555556,
             "#d8576b"
            ],
            [
             0.6666666666666666,
             "#ed7953"
            ],
            [
             0.7777777777777778,
             "#fb9f3a"
            ],
            [
             0.8888888888888888,
             "#fdca26"
            ],
            [
             1.0,
             "#f0f921"
            ]
           ]
          },
          "colorway": [
           "#636efa",
           "#EF553B",
           "#00cc96",
           "#ab63fa",
           "#FFA15A",
           "#19d3f3",
           "#FF6692",
           "#B6E880",
           "#FF97FF",
           "#FECB52"
          ],
          "font": {
           "color": "#2a3f5f"
          },
          "geo": {
           "bgcolor": "white",
           "lakecolor": "white",
           "landcolor": "#E5ECF6",
           "showlakes": true,
           "showland": true,
           "subunitcolor": "white"
          },
          "hoverlabel": {
           "align": "left"
          },
          "hovermode": "closest",
          "mapbox": {
           "style": "light"
          },
          "paper_bgcolor": "white",
          "plot_bgcolor": "#E5ECF6",
          "polar": {
           "angularaxis": {
            "gridcolor": "white",
            "linecolor": "white",
            "ticks": ""
           },
           "bgcolor": "#E5ECF6",
           "radialaxis": {
            "gridcolor": "white",
            "linecolor": "white",
            "ticks": ""
           }
          },
          "scene": {
           "xaxis": {
            "backgroundcolor": "#E5ECF6",
            "gridcolor": "white",
            "gridwidth": 2,
            "linecolor": "white",
            "showbackground": true,
            "ticks": "",
            "zerolinecolor": "white"
           },
           "yaxis": {
            "backgroundcolor": "#E5ECF6",
            "gridcolor": "white",
            "gridwidth": 2,
            "linecolor": "white",
            "showbackground": true,
            "ticks": "",
            "zerolinecolor": "white"
           },
           "zaxis": {
            "backgroundcolor": "#E5ECF6",
            "gridcolor": "white",
            "gridwidth": 2,
            "linecolor": "white",
            "showbackground": true,
            "ticks": "",
            "zerolinecolor": "white"
           }
          },
          "shapedefaults": {
           "line": {
            "color": "#2a3f5f"
           }
          },
          "ternary": {
           "aaxis": {
            "gridcolor": "white",
            "linecolor": "white",
            "ticks": ""
           },
           "baxis": {
            "gridcolor": "white",
            "linecolor": "white",
            "ticks": ""
           },
           "bgcolor": "#E5ECF6",
           "caxis": {
            "gridcolor": "white",
            "linecolor": "white",
            "ticks": ""
           }
          },
          "title": {
           "x": 0.05
          },
          "xaxis": {
           "automargin": true,
           "gridcolor": "white",
           "linecolor": "white",
           "ticks": "",
           "title": {
            "standoff": 15
           },
           "zerolinecolor": "white",
           "zerolinewidth": 2
          },
          "yaxis": {
           "automargin": true,
           "gridcolor": "white",
           "linecolor": "white",
           "ticks": "",
           "title": {
            "standoff": 15
           },
           "zerolinecolor": "white",
           "zerolinewidth": 2
          }
         }
        },
        "title": {
         "text": "Google Merchandise Store Conversion Path"
        },
        "width": 800
       }
      },
      "text/html": [
       "<div>                            <div id=\"b7510464-d9eb-42d5-9bea-0081a148aaca\" class=\"plotly-graph-div\" style=\"height:400px; width:800px;\"></div>            <script type=\"text/javascript\">                require([\"plotly\"], function(Plotly) {                    window.PLOTLYENV=window.PLOTLYENV || {};                                    if (document.getElementById(\"b7510464-d9eb-42d5-9bea-0081a148aaca\")) {                    Plotly.newPlot(                        \"b7510464-d9eb-42d5-9bea-0081a148aaca\",                        [{\"textinfo\": \"value+percent initial\", \"textposition\": \"inside\", \"type\": \"funnel\", \"x\": [445760, 362607, 248936, 74457], \"y\": [\"Click through of product lists\", \"Product detail views\", \"Check out\", \"Completed purchase\"]}],                        {\"height\": 400, \"template\": {\"data\": {\"bar\": [{\"error_x\": {\"color\": \"#2a3f5f\"}, \"error_y\": {\"color\": \"#2a3f5f\"}, \"marker\": {\"line\": {\"color\": \"#E5ECF6\", \"width\": 0.5}}, \"type\": \"bar\"}], \"barpolar\": [{\"marker\": {\"line\": {\"color\": \"#E5ECF6\", \"width\": 0.5}}, \"type\": \"barpolar\"}], \"carpet\": [{\"aaxis\": {\"endlinecolor\": \"#2a3f5f\", \"gridcolor\": \"white\", \"linecolor\": \"white\", \"minorgridcolor\": \"white\", \"startlinecolor\": \"#2a3f5f\"}, \"baxis\": {\"endlinecolor\": \"#2a3f5f\", \"gridcolor\": \"white\", \"linecolor\": \"white\", \"minorgridcolor\": \"white\", \"startlinecolor\": \"#2a3f5f\"}, \"type\": \"carpet\"}], \"choropleth\": [{\"colorbar\": {\"outlinewidth\": 0, \"ticks\": \"\"}, \"type\": \"choropleth\"}], \"contour\": [{\"colorbar\": {\"outlinewidth\": 0, \"ticks\": \"\"}, \"colorscale\": [[0.0, \"#0d0887\"], [0.1111111111111111, \"#46039f\"], [0.2222222222222222, \"#7201a8\"], [0.3333333333333333, \"#9c179e\"], [0.4444444444444444, \"#bd3786\"], [0.5555555555555556, \"#d8576b\"], [0.6666666666666666, \"#ed7953\"], [0.7777777777777778, \"#fb9f3a\"], [0.8888888888888888, \"#fdca26\"], [1.0, \"#f0f921\"]], \"type\": \"contour\"}], \"contourcarpet\": [{\"colorbar\": {\"outlinewidth\": 0, \"ticks\": \"\"}, \"type\": \"contourcarpet\"}], \"heatmap\": [{\"colorbar\": {\"outlinewidth\": 0, \"ticks\": \"\"}, \"colorscale\": [[0.0, \"#0d0887\"], [0.1111111111111111, \"#46039f\"], [0.2222222222222222, \"#7201a8\"], [0.3333333333333333, \"#9c179e\"], [0.4444444444444444, \"#bd3786\"], [0.5555555555555556, \"#d8576b\"], [0.6666666666666666, \"#ed7953\"], [0.7777777777777778, \"#fb9f3a\"], [0.8888888888888888, \"#fdca26\"], [1.0, \"#f0f921\"]], \"type\": \"heatmap\"}], \"heatmapgl\": [{\"colorbar\": {\"outlinewidth\": 0, \"ticks\": \"\"}, \"colorscale\": [[0.0, \"#0d0887\"], [0.1111111111111111, \"#46039f\"], [0.2222222222222222, \"#7201a8\"], [0.3333333333333333, \"#9c179e\"], [0.4444444444444444, \"#bd3786\"], [0.5555555555555556, \"#d8576b\"], [0.6666666666666666, \"#ed7953\"], [0.7777777777777778, \"#fb9f3a\"], [0.8888888888888888, \"#fdca26\"], [1.0, \"#f0f921\"]], \"type\": \"heatmapgl\"}], \"histogram\": [{\"marker\": {\"colorbar\": {\"outlinewidth\": 0, \"ticks\": \"\"}}, \"type\": \"histogram\"}], \"histogram2d\": [{\"colorbar\": {\"outlinewidth\": 0, \"ticks\": \"\"}, \"colorscale\": [[0.0, \"#0d0887\"], [0.1111111111111111, \"#46039f\"], [0.2222222222222222, \"#7201a8\"], [0.3333333333333333, \"#9c179e\"], [0.4444444444444444, \"#bd3786\"], [0.5555555555555556, \"#d8576b\"], [0.6666666666666666, \"#ed7953\"], [0.7777777777777778, \"#fb9f3a\"], [0.8888888888888888, \"#fdca26\"], [1.0, \"#f0f921\"]], \"type\": \"histogram2d\"}], \"histogram2dcontour\": [{\"colorbar\": {\"outlinewidth\": 0, \"ticks\": \"\"}, \"colorscale\": [[0.0, \"#0d0887\"], [0.1111111111111111, \"#46039f\"], [0.2222222222222222, \"#7201a8\"], [0.3333333333333333, \"#9c179e\"], [0.4444444444444444, \"#bd3786\"], [0.5555555555555556, \"#d8576b\"], [0.6666666666666666, \"#ed7953\"], [0.7777777777777778, \"#fb9f3a\"], [0.8888888888888888, \"#fdca26\"], [1.0, \"#f0f921\"]], \"type\": \"histogram2dcontour\"}], \"mesh3d\": [{\"colorbar\": {\"outlinewidth\": 0, \"ticks\": \"\"}, \"type\": \"mesh3d\"}], \"parcoords\": [{\"line\": {\"colorbar\": {\"outlinewidth\": 0, \"ticks\": \"\"}}, \"type\": \"parcoords\"}], \"pie\": [{\"automargin\": true, \"type\": \"pie\"}], \"scatter\": [{\"marker\": {\"colorbar\": {\"outlinewidth\": 0, \"ticks\": \"\"}}, \"type\": \"scatter\"}], \"scatter3d\": [{\"line\": {\"colorbar\": {\"outlinewidth\": 0, \"ticks\": \"\"}}, \"marker\": {\"colorbar\": {\"outlinewidth\": 0, \"ticks\": \"\"}}, \"type\": \"scatter3d\"}], \"scattercarpet\": [{\"marker\": {\"colorbar\": {\"outlinewidth\": 0, \"ticks\": \"\"}}, \"type\": \"scattercarpet\"}], \"scattergeo\": [{\"marker\": {\"colorbar\": {\"outlinewidth\": 0, \"ticks\": \"\"}}, \"type\": \"scattergeo\"}], \"scattergl\": [{\"marker\": {\"colorbar\": {\"outlinewidth\": 0, \"ticks\": \"\"}}, \"type\": \"scattergl\"}], \"scattermapbox\": [{\"marker\": {\"colorbar\": {\"outlinewidth\": 0, \"ticks\": \"\"}}, \"type\": \"scattermapbox\"}], \"scatterpolar\": [{\"marker\": {\"colorbar\": {\"outlinewidth\": 0, \"ticks\": \"\"}}, \"type\": \"scatterpolar\"}], \"scatterpolargl\": [{\"marker\": {\"colorbar\": {\"outlinewidth\": 0, \"ticks\": \"\"}}, \"type\": \"scatterpolargl\"}], \"scatterternary\": [{\"marker\": {\"colorbar\": {\"outlinewidth\": 0, \"ticks\": \"\"}}, \"type\": \"scatterternary\"}], \"surface\": [{\"colorbar\": {\"outlinewidth\": 0, \"ticks\": \"\"}, \"colorscale\": [[0.0, \"#0d0887\"], [0.1111111111111111, \"#46039f\"], [0.2222222222222222, \"#7201a8\"], [0.3333333333333333, \"#9c179e\"], [0.4444444444444444, \"#bd3786\"], [0.5555555555555556, \"#d8576b\"], [0.6666666666666666, \"#ed7953\"], [0.7777777777777778, \"#fb9f3a\"], [0.8888888888888888, \"#fdca26\"], [1.0, \"#f0f921\"]], \"type\": \"surface\"}], \"table\": [{\"cells\": {\"fill\": {\"color\": \"#EBF0F8\"}, \"line\": {\"color\": \"white\"}}, \"header\": {\"fill\": {\"color\": \"#C8D4E3\"}, \"line\": {\"color\": \"white\"}}, \"type\": \"table\"}]}, \"layout\": {\"annotationdefaults\": {\"arrowcolor\": \"#2a3f5f\", \"arrowhead\": 0, \"arrowwidth\": 1}, \"coloraxis\": {\"colorbar\": {\"outlinewidth\": 0, \"ticks\": \"\"}}, \"colorscale\": {\"diverging\": [[0, \"#8e0152\"], [0.1, \"#c51b7d\"], [0.2, \"#de77ae\"], [0.3, \"#f1b6da\"], [0.4, \"#fde0ef\"], [0.5, \"#f7f7f7\"], [0.6, \"#e6f5d0\"], [0.7, \"#b8e186\"], [0.8, \"#7fbc41\"], [0.9, \"#4d9221\"], [1, \"#276419\"]], \"sequential\": [[0.0, \"#0d0887\"], [0.1111111111111111, \"#46039f\"], [0.2222222222222222, \"#7201a8\"], [0.3333333333333333, \"#9c179e\"], [0.4444444444444444, \"#bd3786\"], [0.5555555555555556, \"#d8576b\"], [0.6666666666666666, \"#ed7953\"], [0.7777777777777778, \"#fb9f3a\"], [0.8888888888888888, \"#fdca26\"], [1.0, \"#f0f921\"]], \"sequentialminus\": [[0.0, \"#0d0887\"], [0.1111111111111111, \"#46039f\"], [0.2222222222222222, \"#7201a8\"], [0.3333333333333333, \"#9c179e\"], [0.4444444444444444, \"#bd3786\"], [0.5555555555555556, \"#d8576b\"], [0.6666666666666666, \"#ed7953\"], [0.7777777777777778, \"#fb9f3a\"], [0.8888888888888888, \"#fdca26\"], [1.0, \"#f0f921\"]]}, \"colorway\": [\"#636efa\", \"#EF553B\", \"#00cc96\", \"#ab63fa\", \"#FFA15A\", \"#19d3f3\", \"#FF6692\", \"#B6E880\", \"#FF97FF\", \"#FECB52\"], \"font\": {\"color\": \"#2a3f5f\"}, \"geo\": {\"bgcolor\": \"white\", \"lakecolor\": \"white\", \"landcolor\": \"#E5ECF6\", \"showlakes\": true, \"showland\": true, \"subunitcolor\": \"white\"}, \"hoverlabel\": {\"align\": \"left\"}, \"hovermode\": \"closest\", \"mapbox\": {\"style\": \"light\"}, \"paper_bgcolor\": \"white\", \"plot_bgcolor\": \"#E5ECF6\", \"polar\": {\"angularaxis\": {\"gridcolor\": \"white\", \"linecolor\": \"white\", \"ticks\": \"\"}, \"bgcolor\": \"#E5ECF6\", \"radialaxis\": {\"gridcolor\": \"white\", \"linecolor\": \"white\", \"ticks\": \"\"}}, \"scene\": {\"xaxis\": {\"backgroundcolor\": \"#E5ECF6\", \"gridcolor\": \"white\", \"gridwidth\": 2, \"linecolor\": \"white\", \"showbackground\": true, \"ticks\": \"\", \"zerolinecolor\": \"white\"}, \"yaxis\": {\"backgroundcolor\": \"#E5ECF6\", \"gridcolor\": \"white\", \"gridwidth\": 2, \"linecolor\": \"white\", \"showbackground\": true, \"ticks\": \"\", \"zerolinecolor\": \"white\"}, \"zaxis\": {\"backgroundcolor\": \"#E5ECF6\", \"gridcolor\": \"white\", \"gridwidth\": 2, \"linecolor\": \"white\", \"showbackground\": true, \"ticks\": \"\", \"zerolinecolor\": \"white\"}}, \"shapedefaults\": {\"line\": {\"color\": \"#2a3f5f\"}}, \"ternary\": {\"aaxis\": {\"gridcolor\": \"white\", \"linecolor\": \"white\", \"ticks\": \"\"}, \"baxis\": {\"gridcolor\": \"white\", \"linecolor\": \"white\", \"ticks\": \"\"}, \"bgcolor\": \"#E5ECF6\", \"caxis\": {\"gridcolor\": \"white\", \"linecolor\": \"white\", \"ticks\": \"\"}}, \"title\": {\"x\": 0.05}, \"xaxis\": {\"automargin\": true, \"gridcolor\": \"white\", \"linecolor\": \"white\", \"ticks\": \"\", \"title\": {\"standoff\": 15}, \"zerolinecolor\": \"white\", \"zerolinewidth\": 2}, \"yaxis\": {\"automargin\": true, \"gridcolor\": \"white\", \"linecolor\": \"white\", \"ticks\": \"\", \"title\": {\"standoff\": 15}, \"zerolinecolor\": \"white\", \"zerolinewidth\": 2}}}, \"title\": {\"text\": \"Google Merchandise Store Conversion Path\"}, \"width\": 800},                        {\"responsive\": true}                    ).then(function(){\n",
       "                            \n",
       "var gd = document.getElementById('b7510464-d9eb-42d5-9bea-0081a148aaca');\n",
       "var x = new MutationObserver(function (mutations, observer) {{\n",
       "        var display = window.getComputedStyle(gd).display;\n",
       "        if (!display || display === 'none') {{\n",
       "            console.log([gd, 'removed!']);\n",
       "            Plotly.purge(gd);\n",
       "            observer.disconnect();\n",
       "        }}\n",
       "}});\n",
       "\n",
       "// Listen for the removal of the full notebook cells\n",
       "var notebookContainer = gd.closest('#notebook-container');\n",
       "if (notebookContainer) {{\n",
       "    x.observe(notebookContainer, {childList: true});\n",
       "}}\n",
       "\n",
       "// Listen for the clearing of the current output cell\n",
       "var outputEl = gd.closest('.output');\n",
       "if (outputEl) {{\n",
       "    x.observe(outputEl, {childList: true});\n",
       "}}\n",
       "\n",
       "                        })                };                });            </script>        </div>"
      ]
     },
     "metadata": {},
     "output_type": "display_data"
    }
   ],
   "source": [
    "# Create funnel graph\n",
    "funnel_graph = go.Figure(go.Funnel(y = result['action'], \n",
    "                          x = result['users'], \n",
    "                          textposition = 'inside', \n",
    "                          textinfo = 'value+percent initial'),\n",
    "                layout=go.Layout(height=400, width=800)\n",
    "               )\n",
    "funnel_graph.update_layout(title_text = 'Google Merchandise Store Conversion Path')\n",
    "\n",
    "funnel_graph.show()"
   ]
  },
  {
   "cell_type": "markdown",
   "metadata": {
    "papermill": {
     "duration": 0.051963,
     "end_time": "2023-08-20T23:16:37.460014",
     "exception": false,
     "start_time": "2023-08-20T23:16:37.408051",
     "status": "completed"
    },
    "tags": []
   },
   "source": [
    "69% of users who viewed the product details proceeded to the check out page.\n",
    "\n",
    "We can see however that of those users, only 30% actually completed a purchase."
   ]
  },
  {
   "cell_type": "markdown",
   "metadata": {
    "papermill": {
     "duration": 0.054053,
     "end_time": "2023-08-20T23:16:37.566207",
     "exception": false,
     "start_time": "2023-08-20T23:16:37.512154",
     "status": "completed"
    },
    "tags": []
   },
   "source": [
    "## Identify Best-Selling Product Categories and Forecast Demand"
   ]
  },
  {
   "cell_type": "markdown",
   "metadata": {
    "papermill": {
     "duration": 0.053232,
     "end_time": "2023-08-20T23:16:37.673734",
     "exception": false,
     "start_time": "2023-08-20T23:16:37.620502",
     "status": "completed"
    },
    "tags": []
   },
   "source": [
    "Now that we understand what the conversion path is for visitors to the site, let's see what product categories are the most popular."
   ]
  },
  {
   "cell_type": "code",
   "execution_count": 13,
   "metadata": {
    "execution": {
     "iopub.execute_input": "2023-08-20T23:16:37.787075Z",
     "iopub.status.busy": "2023-08-20T23:16:37.786428Z",
     "iopub.status.idle": "2023-08-20T23:16:50.544067Z",
     "shell.execute_reply": "2023-08-20T23:16:50.543291Z",
     "shell.execute_reply.started": "2023-08-20T22:48:06.111481Z"
    },
    "papermill": {
     "duration": 12.816626,
     "end_time": "2023-08-20T23:16:50.544207",
     "exception": false,
     "start_time": "2023-08-20T23:16:37.727581",
     "status": "completed"
    },
    "tags": []
   },
   "outputs": [
    {
     "data": {
      "text/html": [
       "<div>\n",
       "<style scoped>\n",
       "    .dataframe tbody tr th:only-of-type {\n",
       "        vertical-align: middle;\n",
       "    }\n",
       "\n",
       "    .dataframe tbody tr th {\n",
       "        vertical-align: top;\n",
       "    }\n",
       "\n",
       "    .dataframe thead th {\n",
       "        text-align: right;\n",
       "    }\n",
       "</style>\n",
       "<table border=\"1\" class=\"dataframe\">\n",
       "  <thead>\n",
       "    <tr style=\"text-align: right;\">\n",
       "      <th></th>\n",
       "      <th>category</th>\n",
       "      <th>transactions</th>\n",
       "      <th>total_revenue</th>\n",
       "    </tr>\n",
       "  </thead>\n",
       "  <tbody>\n",
       "    <tr>\n",
       "      <th>0</th>\n",
       "      <td>(not set)</td>\n",
       "      <td>155239</td>\n",
       "      <td>51801830.97</td>\n",
       "    </tr>\n",
       "    <tr>\n",
       "      <th>1</th>\n",
       "      <td>Apparel</td>\n",
       "      <td>133504</td>\n",
       "      <td>44923859.06</td>\n",
       "    </tr>\n",
       "    <tr>\n",
       "      <th>2</th>\n",
       "      <td>Home/Apparel/Men's/Men's-T-Shirts/</td>\n",
       "      <td>147131</td>\n",
       "      <td>25222312.08</td>\n",
       "    </tr>\n",
       "    <tr>\n",
       "      <th>3</th>\n",
       "      <td>Home/Office/</td>\n",
       "      <td>100994</td>\n",
       "      <td>20222511.87</td>\n",
       "    </tr>\n",
       "    <tr>\n",
       "      <th>4</th>\n",
       "      <td>Home/Electronics/</td>\n",
       "      <td>62603</td>\n",
       "      <td>13716689.08</td>\n",
       "    </tr>\n",
       "    <tr>\n",
       "      <th>5</th>\n",
       "      <td>Office</td>\n",
       "      <td>41837</td>\n",
       "      <td>12733564.97</td>\n",
       "    </tr>\n",
       "    <tr>\n",
       "      <th>6</th>\n",
       "      <td>Home/Apparel/</td>\n",
       "      <td>61127</td>\n",
       "      <td>11863650.76</td>\n",
       "    </tr>\n",
       "    <tr>\n",
       "      <th>7</th>\n",
       "      <td>Home/Apparel/Women's/Women's-T-Shirts/</td>\n",
       "      <td>58134</td>\n",
       "      <td>11448008.84</td>\n",
       "    </tr>\n",
       "    <tr>\n",
       "      <th>8</th>\n",
       "      <td>Home/Drinkware/Water Bottles and Tumblers/</td>\n",
       "      <td>44300</td>\n",
       "      <td>10600034.98</td>\n",
       "    </tr>\n",
       "    <tr>\n",
       "      <th>9</th>\n",
       "      <td>Home/Apparel/Men's/</td>\n",
       "      <td>77731</td>\n",
       "      <td>9781940.51</td>\n",
       "    </tr>\n",
       "  </tbody>\n",
       "</table>\n",
       "</div>"
      ],
      "text/plain": [
       "                                     category  transactions  total_revenue\n",
       "0                                   (not set)        155239    51801830.97\n",
       "1                                     Apparel        133504    44923859.06\n",
       "2          Home/Apparel/Men's/Men's-T-Shirts/        147131    25222312.08\n",
       "3                                Home/Office/        100994    20222511.87\n",
       "4                           Home/Electronics/         62603    13716689.08\n",
       "5                                      Office         41837    12733564.97\n",
       "6                               Home/Apparel/         61127    11863650.76\n",
       "7      Home/Apparel/Women's/Women's-T-Shirts/         58134    11448008.84\n",
       "8  Home/Drinkware/Water Bottles and Tumblers/         44300    10600034.98\n",
       "9                         Home/Apparel/Men's/         77731     9781940.51"
      ]
     },
     "execution_count": 13,
     "metadata": {},
     "output_type": "execute_result"
    }
   ],
   "source": [
    "query = \"\"\" \n",
    "        SELECT\n",
    "            product.v2ProductCategory AS category,\n",
    "            SUM(totals.transactions) AS transactions,\n",
    "            SUM(totals.totalTransactionRevenue)/1000000 AS total_revenue\n",
    "        FROM \n",
    "            `bigquery-public-data.google_analytics_sample.ga_sessions_*`,\n",
    "            UNNEST(hits) AS hits,\n",
    "            UNNEST(hits.product) AS product\n",
    "        WHERE\n",
    "            _TABLE_SUFFIX BETWEEN '20160801' AND '20170801'\n",
    "        GROUP BY\n",
    "            category\n",
    "        ORDER BY\n",
    "            total_revenue DESC\n",
    "        LIMIT 10\n",
    "        \"\"\"\n",
    "\n",
    "cat_result = client.query(query).result().to_dataframe()\n",
    "cat_result.head(10)"
   ]
  },
  {
   "cell_type": "markdown",
   "metadata": {
    "papermill": {
     "duration": 0.05392,
     "end_time": "2023-08-20T23:16:50.653486",
     "exception": false,
     "start_time": "2023-08-20T23:16:50.599566",
     "status": "completed"
    },
    "tags": []
   },
   "source": [
    "Several of the best-selling categories are related to Apparel, with Men's-T-Shirts being near the top. We can also see that Office, Electronics, and Water Bottles and Tumblers are selling well.\n",
    "\n",
    "In order to forecast demand for Men's T-Shirts, the best-selling product in the Apparel category, let's calculate the 7-day moving average for transactions."
   ]
  },
  {
   "cell_type": "code",
   "execution_count": 14,
   "metadata": {
    "execution": {
     "iopub.execute_input": "2023-08-20T23:16:50.772075Z",
     "iopub.status.busy": "2023-08-20T23:16:50.771320Z",
     "iopub.status.idle": "2023-08-20T23:17:05.364192Z",
     "shell.execute_reply": "2023-08-20T23:17:05.363560Z",
     "shell.execute_reply.started": "2023-08-20T22:48:20.464554Z"
    },
    "papermill": {
     "duration": 14.655099,
     "end_time": "2023-08-20T23:17:05.364318",
     "exception": false,
     "start_time": "2023-08-20T23:16:50.709219",
     "status": "completed"
    },
    "tags": []
   },
   "outputs": [
    {
     "data": {
      "image/png": "[encoded data removed]",
      "text/plain": [
       "<Figure size 864x432 with 1 Axes>"
      ]
     },
     "metadata": {
      "needs_background": "light"
     },
     "output_type": "display_data"
    }
   ],
   "source": [
    "query = \"\"\" \n",
    "        WITH daily_mens_tshirt_transactions AS\n",
    "        (\n",
    "        SELECT \n",
    "            date,\n",
    "            SUM(totals.transactions) AS transactions\n",
    "        FROM \n",
    "            `bigquery-public-data.google_analytics_sample.ga_sessions_*`,\n",
    "            UNNEST(hits) AS hits,\n",
    "            UNNEST(hits.product) AS product\n",
    "        WHERE\n",
    "            _TABLE_SUFFIX BETWEEN '20160801' AND '20170801'\n",
    "        AND\n",
    "            product.v2ProductCategory = \"Home/Apparel/Men's/Men's-T-Shirts/\"\n",
    "        GROUP BY\n",
    "            date\n",
    "        ORDER BY\n",
    "            date\n",
    "        )\n",
    "        \n",
    "        SELECT\n",
    "            date,\n",
    "            AVG(transactions)\n",
    "            OVER (\n",
    "                  ORDER BY date\n",
    "                  ROWS BETWEEN 3 PRECEDING AND 3 FOLLOWING    \n",
    "                 ) AS avg_transactions\n",
    "        FROM \n",
    "            daily_mens_tshirt_transactions\n",
    "        \"\"\"\n",
    "\n",
    "result = client.query(query).result().to_dataframe()\n",
    "result['date'] = pd.to_datetime(result['date'])\n",
    "result.plot(y='avg_transactions', x='date', kind='line', \n",
    "            title='Men\\'s T-Shirts Conversions 7-Day Moving Average', figsize=(12,6))\n",
    "plt.show()"
   ]
  },
  {
   "cell_type": "markdown",
   "metadata": {
    "papermill": {
     "duration": 0.059165,
     "end_time": "2023-08-20T23:17:05.483034",
     "exception": false,
     "start_time": "2023-08-20T23:17:05.423869",
     "status": "completed"
    },
    "tags": []
   },
   "source": [
    "Looking at the chart above, it would seem there is some seasonality in the demand for Men's T-shirts.\n",
    "\n",
    "Let's look at the moving averages for Office and Water Bottles and Tumblers as well and see if there is a similar trend."
   ]
  },
  {
   "cell_type": "code",
   "execution_count": 15,
   "metadata": {
    "execution": {
     "iopub.execute_input": "2023-08-20T23:17:05.614312Z",
     "iopub.status.busy": "2023-08-20T23:17:05.613519Z",
     "iopub.status.idle": "2023-08-20T23:17:21.807919Z",
     "shell.execute_reply": "2023-08-20T23:17:21.808477Z",
     "shell.execute_reply.started": "2023-08-20T22:48:35.632759Z"
    },
    "papermill": {
     "duration": 16.265645,
     "end_time": "2023-08-20T23:17:21.808644",
     "exception": false,
     "start_time": "2023-08-20T23:17:05.542999",
     "status": "completed"
    },
    "tags": []
   },
   "outputs": [
    {
     "data": {
      "image/png": "[encoded data removed]",
      "text/plain": [
       "<Figure size 864x432 with 1 Axes>"
      ]
     },
     "metadata": {
      "needs_background": "light"
     },
     "output_type": "display_data"
    }
   ],
   "source": [
    "query = \"\"\" \n",
    "        WITH daily_drinkware_transactions AS\n",
    "        (\n",
    "        SELECT \n",
    "            date,\n",
    "            SUM(totals.transactions) AS transactions\n",
    "        FROM \n",
    "            `bigquery-public-data.google_analytics_sample.ga_sessions_*`,\n",
    "            UNNEST(hits) AS hits,\n",
    "            UNNEST(hits.product) AS product\n",
    "        WHERE\n",
    "            _TABLE_SUFFIX BETWEEN '20160801' AND '20170801'\n",
    "        AND\n",
    "            product.v2ProductCategory = \"Home/Drinkware/Water Bottles and Tumblers/\"\n",
    "        GROUP BY\n",
    "            date\n",
    "        ORDER BY\n",
    "            date\n",
    "        )\n",
    "        \n",
    "        SELECT\n",
    "            date,\n",
    "            AVG(transactions)\n",
    "            OVER (\n",
    "                  ORDER BY date\n",
    "                  ROWS BETWEEN 3 PRECEDING AND 3 FOLLOWING    \n",
    "                 ) AS avg_transactions\n",
    "        FROM \n",
    "            daily_drinkware_transactions\n",
    "        \"\"\"\n",
    "\n",
    "result = client.query(query).result().to_dataframe()\n",
    "result['date'] = pd.to_datetime(result['date'])\n",
    "result.plot(y='avg_transactions', x='date', kind='line', \n",
    "            title='Drinkware Conversions 7-Day Moving Average', figsize=(12,6))\n",
    "plt.show()"
   ]
  },
  {
   "cell_type": "code",
   "execution_count": 16,
   "metadata": {
    "execution": {
     "iopub.execute_input": "2023-08-20T23:17:21.941959Z",
     "iopub.status.busy": "2023-08-20T23:17:21.941238Z",
     "iopub.status.idle": "2023-08-20T23:17:38.107744Z",
     "shell.execute_reply": "2023-08-20T23:17:38.107040Z",
     "shell.execute_reply.started": "2023-08-20T22:48:50.668948Z"
    },
    "papermill": {
     "duration": 16.239264,
     "end_time": "2023-08-20T23:17:38.107871",
     "exception": false,
     "start_time": "2023-08-20T23:17:21.868607",
     "status": "completed"
    },
    "tags": []
   },
   "outputs": [
    {
     "data": {
      "image/png": "[encoded data removed]",
      "text/plain": [
       "<Figure size 864x432 with 1 Axes>"
      ]
     },
     "metadata": {
      "needs_background": "light"
     },
     "output_type": "display_data"
    }
   ],
   "source": [
    "query = \"\"\" \n",
    "        WITH daily_electronics_transactions AS\n",
    "        (\n",
    "        SELECT \n",
    "            date,\n",
    "            SUM(totals.transactions) AS transactions\n",
    "        FROM \n",
    "            `bigquery-public-data.google_analytics_sample.ga_sessions_*`,\n",
    "            UNNEST(hits) AS hits,\n",
    "            UNNEST(hits.product) AS product\n",
    "        WHERE\n",
    "            _TABLE_SUFFIX BETWEEN '20160801' AND '20170801'\n",
    "        AND\n",
    "            product.v2ProductCategory = \"Home/Electronics/\"\n",
    "        GROUP BY\n",
    "            date\n",
    "        ORDER BY\n",
    "            date\n",
    "        )\n",
    "        \n",
    "        SELECT\n",
    "            date,\n",
    "            AVG(transactions)\n",
    "            OVER (\n",
    "                  ORDER BY date\n",
    "                  ROWS BETWEEN 3 PRECEDING AND 3 FOLLOWING    \n",
    "                 ) AS avg_transactions\n",
    "        FROM \n",
    "            daily_electronics_transactions\n",
    "        \"\"\"\n",
    "\n",
    "result = client.query(query).result().to_dataframe()\n",
    "result['date'] = pd.to_datetime(result['date'])\n",
    "result.plot(y='avg_transactions', x='date', kind='line', \n",
    "            title='Electronics Conversions 7-Day Moving Average', figsize=(12,6))\n",
    "plt.show()"
   ]
  },
  {
   "cell_type": "code",
   "execution_count": 17,
   "metadata": {
    "_kg_hide-input": false,
    "execution": {
     "iopub.execute_input": "2023-08-20T23:17:38.245290Z",
     "iopub.status.busy": "2023-08-20T23:17:38.244502Z",
     "iopub.status.idle": "2023-08-20T23:17:53.264413Z",
     "shell.execute_reply": "2023-08-20T23:17:53.265014Z",
     "shell.execute_reply.started": "2023-08-20T22:49:06.961500Z"
    },
    "papermill": {
     "duration": 15.093538,
     "end_time": "2023-08-20T23:17:53.265172",
     "exception": false,
     "start_time": "2023-08-20T23:17:38.171634",
     "status": "completed"
    },
    "tags": []
   },
   "outputs": [
    {
     "data": {
      "image/png": "[encoded data removed]",
      "text/plain": [
       "<Figure size 864x432 with 1 Axes>"
      ]
     },
     "metadata": {
      "needs_background": "light"
     },
     "output_type": "display_data"
    }
   ],
   "source": [
    "query = \"\"\" \n",
    "        WITH daily_office_transactions AS\n",
    "        (\n",
    "        SELECT \n",
    "            date,\n",
    "            SUM(totals.transactions) AS transactions\n",
    "        FROM \n",
    "            `bigquery-public-data.google_analytics_sample.ga_sessions_*`,\n",
    "            UNNEST(hits) AS hits,\n",
    "            UNNEST(hits.product) AS product\n",
    "        WHERE\n",
    "            _TABLE_SUFFIX BETWEEN '20160801' AND '20170801'\n",
    "        AND\n",
    "            product.v2ProductCategory = \"Home/Office/\"\n",
    "        GROUP BY\n",
    "            date\n",
    "        ORDER BY\n",
    "            date\n",
    "        )\n",
    "        \n",
    "        SELECT\n",
    "            date,\n",
    "            AVG(transactions)\n",
    "            OVER (\n",
    "                  ORDER BY date\n",
    "                  ROWS BETWEEN 3 PRECEDING AND 3 FOLLOWING    \n",
    "                 ) AS avg_transactions\n",
    "        FROM \n",
    "            daily_office_transactions\n",
    "        \"\"\"\n",
    "\n",
    "result = client.query(query).result().to_dataframe()\n",
    "result['date'] = pd.to_datetime(result['date'])\n",
    "result.plot(y='avg_transactions', x='date', kind='line', \n",
    "            title='Office Conversions 7-Day Moving Average', figsize=(12,6))\n",
    "plt.show()"
   ]
  },
  {
   "cell_type": "markdown",
   "metadata": {
    "papermill": {
     "duration": 0.064235,
     "end_time": "2023-08-20T23:17:53.395144",
     "exception": false,
     "start_time": "2023-08-20T23:17:53.330909",
     "status": "completed"
    },
    "tags": []
   },
   "source": [
    "The average transactions for August 2016 are very high compared to later periods, but since we don't know the cause of this we will ignore it for now.\n",
    "\n",
    "Office and Electronics products seem to have steady demand year-round, Drinkware seems to see a spike in demand in December and March, and demand for Men's T-Shirts seem to increase in September, March, and August."
   ]
  },
  {
   "cell_type": "markdown",
   "metadata": {
    "papermill": {
     "duration": 0.060523,
     "end_time": "2023-08-20T23:17:53.517025",
     "exception": false,
     "start_time": "2023-08-20T23:17:53.456502",
     "status": "completed"
    },
    "tags": []
   },
   "source": [
    "# 4. Visualize Insights and Interpret Results"
   ]
  },
  {
   "cell_type": "markdown",
   "metadata": {
    "papermill": {
     "duration": 0.064202,
     "end_time": "2023-08-20T23:17:53.641698",
     "exception": false,
     "start_time": "2023-08-20T23:17:53.577496",
     "status": "completed"
    },
    "tags": []
   },
   "source": [
    "## Most Popular Landing Pages and Bounce Rates\n",
    "The following are the most visited landing pages and their respective bounce rates:"
   ]
  },
  {
   "cell_type": "code",
   "execution_count": 18,
   "metadata": {
    "_kg_hide-input": true,
    "execution": {
     "iopub.execute_input": "2023-08-20T23:17:53.780293Z",
     "iopub.status.busy": "2023-08-20T23:17:53.779537Z",
     "iopub.status.idle": "2023-08-20T23:18:08.245668Z",
     "shell.execute_reply": "2023-08-20T23:18:08.245180Z",
     "shell.execute_reply.started": "2023-08-20T22:49:22.758873Z"
    },
    "papermill": {
     "duration": 14.538837,
     "end_time": "2023-08-20T23:18:08.245803",
     "exception": false,
     "start_time": "2023-08-20T23:17:53.706966",
     "status": "completed"
    },
    "tags": []
   },
   "outputs": [
    {
     "data": {
      "image/png": "[encoded data removed]",
      "text/plain": [
       "<Figure size 720x432 with 1 Axes>"
      ]
     },
     "metadata": {
      "needs_background": "light"
     },
     "output_type": "display_data"
    }
   ],
   "source": [
    "query = \"\"\"\n",
    "        SELECT \n",
    "            hits.page.pagePath AS landing_page,\n",
    "            COUNT(*) AS views,\n",
    "            SUM(totals.bounces)/COUNT(*) AS bounce_rate\n",
    "        FROM \n",
    "            `bigquery-public-data.google_analytics_sample.ga_sessions_*`,\n",
    "            UNNEST(hits) AS hits\n",
    "        WHERE\n",
    "            _TABLE_SUFFIX BETWEEN '20160801' AND '20170801'\n",
    "        AND\n",
    "            hits.type='PAGE'\n",
    "        AND\n",
    "            hits.hitNumber=1\n",
    "        GROUP BY\n",
    "            landing_page\n",
    "        ORDER BY\n",
    "            views DESC\n",
    "        LIMIT 10\n",
    "        \"\"\"\n",
    "\n",
    "result = client.query(query).result().to_dataframe().sort_values(by='bounce_rate', axis=0)\n",
    "fig, ax = plt.subplots(figsize=(10,6))\n",
    "result.plot(y=['bounce_rate'], x='landing_page', kind='barh', legend=False,\n",
    "            title='Bounce Rates for Top 10 Landing Pages', ax=ax)\n",
    "ax.set_ylabel('')\n",
    "\n",
    "plt.show()"
   ]
  },
  {
   "cell_type": "markdown",
   "metadata": {
    "papermill": {
     "duration": 0.064555,
     "end_time": "2023-08-20T23:18:08.377852",
     "exception": false,
     "start_time": "2023-08-20T23:18:08.313297",
     "status": "completed"
    },
    "tags": []
   },
   "source": [
    "From this I have formulated the following hypotheses:\n",
    "\n",
    "1. The reason that YouTube is the second most visited landing page and yet has the highest bounce rate is that there are a large number of visitors looking for YouTuber merchandise, and not YouTube brand merchandise.\n",
    "2. The reason for login and Basket's high visits and low bounce rate is due to a large number of repeat visitors.\n",
    "3. Within the top 10 landing pages 3 are related to Men's Apparel, indicating it is an especially popular category\n",
    "\n",
    "With these ideas in mind, let's look at browsers and devices next."
   ]
  },
  {
   "cell_type": "markdown",
   "metadata": {
    "papermill": {
     "duration": 0.067121,
     "end_time": "2023-08-20T23:18:08.510004",
     "exception": false,
     "start_time": "2023-08-20T23:18:08.442883",
     "status": "completed"
    },
    "tags": []
   },
   "source": [
    "## Browser and Device\n"
   ]
  },
  {
   "cell_type": "code",
   "execution_count": 19,
   "metadata": {
    "_kg_hide-input": true,
    "execution": {
     "iopub.execute_input": "2023-08-20T23:18:08.645206Z",
     "iopub.status.busy": "2023-08-20T23:18:08.644523Z",
     "iopub.status.idle": "2023-08-20T23:18:22.804940Z",
     "shell.execute_reply": "2023-08-20T23:18:22.804186Z",
     "shell.execute_reply.started": "2023-08-20T22:49:37.457411Z"
    },
    "papermill": {
     "duration": 14.228679,
     "end_time": "2023-08-20T23:18:22.805063",
     "exception": false,
     "start_time": "2023-08-20T23:18:08.576384",
     "status": "completed"
    },
    "tags": []
   },
   "outputs": [
    {
     "data": {
      "image/png": "[encoded data removed]",
      "text/plain": [
       "<Figure size 864x504 with 2 Axes>"
      ]
     },
     "metadata": {
      "needs_background": "light"
     },
     "output_type": "display_data"
    }
   ],
   "source": [
    "query = \"\"\"\n",
    "        SELECT \n",
    "            device.Browser AS browser,\n",
    "            COUNT(*) AS sessions,\n",
    "            SUM(totals.bounces)/COUNT(*) AS exit_rate\n",
    "        FROM \n",
    "            `bigquery-public-data.google_analytics_sample.ga_sessions_*`,\n",
    "            UNNEST(hits) AS hits\n",
    "        WHERE\n",
    "            _TABLE_SUFFIX BETWEEN '20160801' AND '20170801'\n",
    "        GROUP BY\n",
    "            browser\n",
    "        ORDER BY\n",
    "            sessions DESC\n",
    "        LIMIT 7\n",
    "        \"\"\"\n",
    "\n",
    "result = client.query(query).result().to_dataframe()\n",
    "fig, ax = plt.subplots(figsize=(12,7))\n",
    "result.plot(y=['sessions', 'exit_rate'], x='browser', kind='bar', secondary_y='exit_rate',\n",
    "            ax=ax, mark_right=False, title='Sessions and Exit Rates by Browser')\n",
    "\n",
    "ax.set_xticklabels(labels=result['browser'], rotation=45)\n",
    "ax.set_xlabel('')\n",
    "ax.legend(loc=(1.1, 0.55))\n",
    "plt.legend(loc=(1.1, 0.5))\n",
    "\n",
    "plt.show()"
   ]
  },
  {
   "cell_type": "markdown",
   "metadata": {
    "papermill": {
     "duration": 0.067028,
     "end_time": "2023-08-20T23:18:22.936911",
     "exception": false,
     "start_time": "2023-08-20T23:18:22.869883",
     "status": "completed"
    },
    "tags": []
   },
   "source": [
    "The majority of sessions are from Chrome, but there are a significant number of sessions from Safari and Firefox as well. \n",
    "\n",
    "The exit rate for Safari and Firefox is significantly higher than Chrome, which could indicate compatibility issues."
   ]
  },
  {
   "cell_type": "code",
   "execution_count": 20,
   "metadata": {
    "_kg_hide-input": true,
    "execution": {
     "iopub.execute_input": "2023-08-20T23:18:23.074633Z",
     "iopub.status.busy": "2023-08-20T23:18:23.073898Z",
     "iopub.status.idle": "2023-08-20T23:18:39.278214Z",
     "shell.execute_reply": "2023-08-20T23:18:39.277578Z",
     "shell.execute_reply.started": "2023-08-20T22:49:54.744410Z"
    },
    "papermill": {
     "duration": 16.275338,
     "end_time": "2023-08-20T23:18:39.278340",
     "exception": false,
     "start_time": "2023-08-20T23:18:23.003002",
     "status": "completed"
    },
    "tags": []
   },
   "outputs": [
    {
     "data": {
      "image/png": "[encoded data removed]",
      "text/plain": [
       "<Figure size 720x432 with 2 Axes>"
      ]
     },
     "metadata": {
      "needs_background": "light"
     },
     "output_type": "display_data"
    }
   ],
   "source": [
    "query = \"\"\" \n",
    "        SELECT \n",
    "            device.deviceCategory AS device,\n",
    "            COUNT(*) AS sessions,\n",
    "            SUM(totals.bounces)/COUNT(*) AS exit_rate\n",
    "        FROM \n",
    "            `bigquery-public-data.google_analytics_sample.ga_sessions_*`,\n",
    "            UNNEST(hits) AS hits\n",
    "        WHERE\n",
    "            _TABLE_SUFFIX BETWEEN '20160801' AND '20170801'\n",
    "        GROUP BY\n",
    "            device\n",
    "        ORDER BY\n",
    "            sessions DESC\n",
    "        \"\"\"\n",
    "\n",
    "result = client.query(query).result().to_dataframe()\n",
    "fig, ax = plt.subplots(figsize=(10,6))\n",
    "result.plot(y=['sessions','exit_rate'], x='device', kind='bar',\n",
    "            title='Exit Rate by Device', secondary_y='exit_rate', ax=ax)\n",
    "ax.set_xlabel('')\n",
    "ax.set_xticklabels(labels=result['device'], rotation=45)\n",
    "plt.show()"
   ]
  },
  {
   "cell_type": "markdown",
   "metadata": {
    "papermill": {
     "duration": 0.069411,
     "end_time": "2023-08-20T23:18:39.416361",
     "exception": false,
     "start_time": "2023-08-20T23:18:39.346950",
     "status": "completed"
    },
    "tags": []
   },
   "source": [
    "Here we see that the majority of sessions are on desktop, with a significant number also coming from mobile.\n",
    "\n",
    "We can also see the roughly 2.5% greater exit rate of mobile compared to desktop and tablet. This is likely due to:\n",
    "\n",
    "1. The site not being optimized for mobile devices\n",
    "2. Users first browsing product pages on their mobile devices, and then later returning on desktop to complete their purchase\n",
    "\n",
    "It may therefore be useful to conduct a user test for mobile devices. With this we can understand where users may face problems not just on a browser and device level, but on a page, form, and even button level."
   ]
  },
  {
   "cell_type": "markdown",
   "metadata": {
    "papermill": {
     "duration": 0.064951,
     "end_time": "2023-08-20T23:18:39.596785",
     "exception": false,
     "start_time": "2023-08-20T23:18:39.531834",
     "status": "completed"
    },
    "tags": []
   },
   "source": [
    "## Type and Quality of Traffic"
   ]
  },
  {
   "cell_type": "code",
   "execution_count": 21,
   "metadata": {
    "_kg_hide-input": true,
    "execution": {
     "iopub.execute_input": "2023-08-20T23:18:39.743015Z",
     "iopub.status.busy": "2023-08-20T23:18:39.742212Z",
     "iopub.status.idle": "2023-08-20T23:18:56.419340Z",
     "shell.execute_reply": "2023-08-20T23:18:56.418625Z",
     "shell.execute_reply.started": "2023-08-20T22:50:10.824239Z"
    },
    "papermill": {
     "duration": 16.754552,
     "end_time": "2023-08-20T23:18:56.419454",
     "exception": false,
     "start_time": "2023-08-20T23:18:39.664902",
     "status": "completed"
    },
    "tags": []
   },
   "outputs": [
    {
     "data": {
      "image/png": "[encoded data removed]",
      "text/plain": [
       "<Figure size 720x504 with 2 Axes>"
      ]
     },
     "metadata": {
      "needs_background": "light"
     },
     "output_type": "display_data"
    }
   ],
   "source": [
    "query = \"\"\"\n",
    "        SELECT \n",
    "            trafficSource.medium AS medium,\n",
    "            COUNT(*) AS sessions,\n",
    "            SUM(totals.bounces)/COUNT(*) AS exit_rate,\n",
    "            SUM(totals.transactions) AS transactions,\n",
    "            SUM(totals.totalTransactionRevenue)/1000000 AS total_revenue,\n",
    "            SUM(totals.transactions)/COUNT(*) AS conversion_rate\n",
    "        FROM \n",
    "            `bigquery-public-data.google_analytics_sample.ga_sessions_*`,\n",
    "            UNNEST(hits) AS hits\n",
    "        WHERE\n",
    "            _TABLE_SUFFIX BETWEEN '20160801' AND '20170801'\n",
    "        GROUP BY\n",
    "            medium\n",
    "        ORDER BY\n",
    "            sessions DESC\n",
    "        LIMIT 10\n",
    "        \"\"\"\n",
    "\n",
    "result = client.query(query).result().to_dataframe()\n",
    "fig, ax = plt.subplots(figsize=(10,7))\n",
    "result.plot(y=['total_revenue', 'conversion_rate'], x='medium', kind='bar', \n",
    "            secondary_y='conversion_rate', ax=ax)\n",
    "ax.set_xticklabels(labels=result['medium'], rotation=45)\n",
    "plt.show()"
   ]
  },
  {
   "cell_type": "markdown",
   "metadata": {
    "papermill": {
     "duration": 0.065729,
     "end_time": "2023-08-20T23:18:56.553986",
     "exception": false,
     "start_time": "2023-08-20T23:18:56.488257",
     "status": "completed"
    },
    "tags": []
   },
   "source": [
    "Most of our traffic is organic, followed by CPM, referral, and CPC.\n",
    "\n",
    "However, our paid advertising sources, CPM and CPC, have a noticeably higher conversion rate in comparison to the other sources."
   ]
  },
  {
   "cell_type": "markdown",
   "metadata": {
    "papermill": {
     "duration": 0.069791,
     "end_time": "2023-08-20T23:18:56.692522",
     "exception": false,
     "start_time": "2023-08-20T23:18:56.622731",
     "status": "completed"
    },
    "tags": []
   },
   "source": [
    "## Conversion Path"
   ]
  },
  {
   "cell_type": "code",
   "execution_count": 22,
   "metadata": {
    "_kg_hide-input": true,
    "execution": {
     "iopub.execute_input": "2023-08-20T23:18:56.834372Z",
     "iopub.status.busy": "2023-08-20T23:18:56.833545Z",
     "iopub.status.idle": "2023-08-20T23:18:56.848590Z",
     "shell.execute_reply": "2023-08-20T23:18:56.847870Z",
     "shell.execute_reply.started": "2023-08-20T22:50:25.357090Z"
    },
    "papermill": {
     "duration": 0.087469,
     "end_time": "2023-08-20T23:18:56.848719",
     "exception": false,
     "start_time": "2023-08-20T23:18:56.761250",
     "status": "completed"
    },
    "tags": []
   },
   "outputs": [
    {
     "data": {
      "application/vnd.plotly.v1+json": {
       "config": {
        "plotlyServerURL": "https://plot.ly"
       },
       "data": [
        {
         "textinfo": "value+percent initial",
         "textposition": "inside",
         "type": "funnel",
         "x": [
          445760,
          362607,
          248936,
          74457
         ],
         "y": [
          "Click through of product lists",
          "Product detail views",
          "Check out",
          "Completed purchase"
         ]
        }
       ],
       "layout": {
        "height": 400,
        "template": {
         "data": {
          "bar": [
           {
            "error_x": {
             "color": "#2a3f5f"
            },
            "error_y": {
             "color": "#2a3f5f"
            },
            "marker": {
             "line": {
              "color": "#E5ECF6",
              "width": 0.5
             }
            },
            "type": "bar"
           }
          ],
          "barpolar": [
           {
            "marker": {
             "line": {
              "color": "#E5ECF6",
              "width": 0.5
             }
            },
            "type": "barpolar"
           }
          ],
          "carpet": [
           {
            "aaxis": {
             "endlinecolor": "#2a3f5f",
             "gridcolor": "white",
             "linecolor": "white",
             "minorgridcolor": "white",
             "startlinecolor": "#2a3f5f"
            },
            "baxis": {
             "endlinecolor": "#2a3f5f",
             "gridcolor": "white",
             "linecolor": "white",
             "minorgridcolor": "white",
             "startlinecolor": "#2a3f5f"
            },
            "type": "carpet"
           }
          ],
          "choropleth": [
           {
            "colorbar": {
             "outlinewidth": 0,
             "ticks": ""
            },
            "type": "choropleth"
           }
          ],
          "contour": [
           {
            "colorbar": {
             "outlinewidth": 0,
             "ticks": ""
            },
            "colorscale": [
             [
              0.0,
              "#0d0887"
             ],
             [
              0.1111111111111111,
              "#46039f"
             ],
             [
              0.2222222222222222,
              "#7201a8"
             ],
             [
              0.3333333333333333,
              "#9c179e"
             ],
             [
              0.4444444444444444,
              "#bd3786"
             ],
             [
              0.5555555555555556,
              "#d8576b"
             ],
             [
              0.6666666666666666,
              "#ed7953"
             ],
             [
              0.7777777777777778,
              "#fb9f3a"
             ],
             [
              0.8888888888888888,
              "#fdca26"
             ],
             [
              1.0,
              "#f0f921"
             ]
            ],
            "type": "contour"
           }
          ],
          "contourcarpet": [
           {
            "colorbar": {
             "outlinewidth": 0,
             "ticks": ""
            },
            "type": "contourcarpet"
           }
          ],
          "heatmap": [
           {
            "colorbar": {
             "outlinewidth": 0,
             "ticks": ""
            },
            "colorscale": [
             [
              0.0,
              "#0d0887"
             ],
             [
              0.1111111111111111,
              "#46039f"
             ],
             [
              0.2222222222222222,
              "#7201a8"
             ],
             [
              0.3333333333333333,
              "#9c179e"
             ],
             [
              0.4444444444444444,
              "#bd3786"
             ],
             [
              0.5555555555555556,
              "#d8576b"
             ],
             [
              0.6666666666666666,
              "#ed7953"
             ],
             [
              0.7777777777777778,
              "#fb9f3a"
             ],
             [
              0.8888888888888888,
              "#fdca26"
             ],
             [
              1.0,
              "#f0f921"
             ]
            ],
            "type": "heatmap"
           }
          ],
          "heatmapgl": [
           {
            "colorbar": {
             "outlinewidth": 0,
             "ticks": ""
            },
            "colorscale": [
             [
              0.0,
              "#0d0887"
             ],
             [
              0.1111111111111111,
              "#46039f"
             ],
             [
              0.2222222222222222,
              "#7201a8"
             ],
             [
              0.3333333333333333,
              "#9c179e"
             ],
             [
              0.4444444444444444,
              "#bd3786"
             ],
             [
              0.5555555555555556,
              "#d8576b"
             ],
             [
              0.6666666666666666,
              "#ed7953"
             ],
             [
              0.7777777777777778,
              "#fb9f3a"
             ],
             [
              0.8888888888888888,
              "#fdca26"
             ],
             [
              1.0,
              "#f0f921"
             ]
            ],
            "type": "heatmapgl"
           }
          ],
          "histogram": [
           {
            "marker": {
             "colorbar": {
              "outlinewidth": 0,
              "ticks": ""
             }
            },
            "type": "histogram"
           }
          ],
          "histogram2d": [
           {
            "colorbar": {
             "outlinewidth": 0,
             "ticks": ""
            },
            "colorscale": [
             [
              0.0,
              "#0d0887"
             ],
             [
              0.1111111111111111,
              "#46039f"
             ],
             [
              0.2222222222222222,
              "#7201a8"
             ],
             [
              0.3333333333333333,
              "#9c179e"
             ],
             [
              0.4444444444444444,
              "#bd3786"
             ],
             [
              0.5555555555555556,
              "#d8576b"
             ],
             [
              0.6666666666666666,
              "#ed7953"
             ],
             [
              0.7777777777777778,
              "#fb9f3a"
             ],
             [
              0.8888888888888888,
              "#fdca26"
             ],
             [
              1.0,
              "#f0f921"
             ]
            ],
            "type": "histogram2d"
           }
          ],
          "histogram2dcontour": [
           {
            "colorbar": {
             "outlinewidth": 0,
             "ticks": ""
            },
            "colorscale": [
             [
              0.0,
              "#0d0887"
             ],
             [
              0.1111111111111111,
              "#46039f"
             ],
             [
              0.2222222222222222,
              "#7201a8"
             ],
             [
              0.3333333333333333,
              "#9c179e"
             ],
             [
              0.4444444444444444,
              "#bd3786"
             ],
             [
              0.5555555555555556,
              "#d8576b"
             ],
             [
              0.6666666666666666,
              "#ed7953"
             ],
             [
              0.7777777777777778,
              "#fb9f3a"
             ],
             [
              0.8888888888888888,
              "#fdca26"
             ],
             [
              1.0,
              "#f0f921"
             ]
            ],
            "type": "histogram2dcontour"
           }
          ],
          "mesh3d": [
           {
            "colorbar": {
             "outlinewidth": 0,
             "ticks": ""
            },
            "type": "mesh3d"
           }
          ],
          "parcoords": [
           {
            "line": {
             "colorbar": {
              "outlinewidth": 0,
              "ticks": ""
             }
            },
            "type": "parcoords"
           }
          ],
          "pie": [
           {
            "automargin": true,
            "type": "pie"
           }
          ],
          "scatter": [
           {
            "marker": {
             "colorbar": {
              "outlinewidth": 0,
              "ticks": ""
             }
            },
            "type": "scatter"
           }
          ],
          "scatter3d": [
           {
            "line": {
             "colorbar": {
              "outlinewidth": 0,
              "ticks": ""
             }
            },
            "marker": {
             "colorbar": {
              "outlinewidth": 0,
              "ticks": ""
             }
            },
            "type": "scatter3d"
           }
          ],
          "scattercarpet": [
           {
            "marker": {
             "colorbar": {
              "outlinewidth": 0,
              "ticks": ""
             }
            },
            "type": "scattercarpet"
           }
          ],
          "scattergeo": [
           {
            "marker": {
             "colorbar": {
              "outlinewidth": 0,
              "ticks": ""
             }
            },
            "type": "scattergeo"
           }
          ],
          "scattergl": [
           {
            "marker": {
             "colorbar": {
              "outlinewidth": 0,
              "ticks": ""
             }
            },
            "type": "scattergl"
           }
          ],
          "scattermapbox": [
           {
            "marker": {
             "colorbar": {
              "outlinewidth": 0,
              "ticks": ""
             }
            },
            "type": "scattermapbox"
           }
          ],
          "scatterpolar": [
           {
            "marker": {
             "colorbar": {
              "outlinewidth": 0,
              "ticks": ""
             }
            },
            "type": "scatterpolar"
           }
          ],
          "scatterpolargl": [
           {
            "marker": {
             "colorbar": {
              "outlinewidth": 0,
              "ticks": ""
             }
            },
            "type": "scatterpolargl"
           }
          ],
          "scatterternary": [
           {
            "marker": {
             "colorbar": {
              "outlinewidth": 0,
              "ticks": ""
             }
            },
            "type": "scatterternary"
           }
          ],
          "surface": [
           {
            "colorbar": {
             "outlinewidth": 0,
             "ticks": ""
            },
            "colorscale": [
             [
              0.0,
              "#0d0887"
             ],
             [
              0.1111111111111111,
              "#46039f"
             ],
             [
              0.2222222222222222,
              "#7201a8"
             ],
             [
              0.3333333333333333,
              "#9c179e"
             ],
             [
              0.4444444444444444,
              "#bd3786"
             ],
             [
              0.5555555555555556,
              "#d8576b"
             ],
             [
              0.6666666666666666,
              "#ed7953"
             ],
             [
              0.7777777777777778,
              "#fb9f3a"
             ],
             [
              0.8888888888888888,
              "#fdca26"
             ],
             [
              1.0,
              "#f0f921"
             ]
            ],
            "type": "surface"
           }
          ],
          "table": [
           {
            "cells": {
             "fill": {
              "color": "#EBF0F8"
             },
             "line": {
              "color": "white"
             }
            },
            "header": {
             "fill": {
              "color": "#C8D4E3"
             },
             "line": {
              "color": "white"
             }
            },
            "type": "table"
           }
          ]
         },
         "layout": {
          "annotationdefaults": {
           "arrowcolor": "#2a3f5f",
           "arrowhead": 0,
           "arrowwidth": 1
          },
          "coloraxis": {
           "colorbar": {
            "outlinewidth": 0,
            "ticks": ""
           }
          },
          "colorscale": {
           "diverging": [
            [
             0,
             "#8e0152"
            ],
            [
             0.1,
             "#c51b7d"
            ],
            [
             0.2,
             "#de77ae"
            ],
            [
             0.3,
             "#f1b6da"
            ],
            [
             0.4,
             "#fde0ef"
            ],
            [
             0.5,
             "#f7f7f7"
            ],
            [
             0.6,
             "#e6f5d0"
            ],
            [
             0.7,
             "#b8e186"
            ],
            [
             0.8,
             "#7fbc41"
            ],
            [
             0.9,
             "#4d9221"
            ],
            [
             1,
             "#276419"
            ]
           ],
           "sequential": [
            [
             0.0,
             "#0d0887"
            ],
            [
             0.1111111111111111,
             "#46039f"
            ],
            [
             0.2222222222222222,
             "#7201a8"
            ],
            [
             0.3333333333333333,
             "#9c179e"
            ],
            [
             0.4444444444444444,
             "#bd3786"
            ],
            [
             0.5555555555555556,
             "#d8576b"
            ],
            [
             0.6666666666666666,
             "#ed7953"
            ],
            [
             0.7777777777777778,
             "#fb9f3a"
            ],
            [
             0.8888888888888888,
             "#fdca26"
            ],
            [
             1.0,
             "#f0f921"
            ]
           ],
           "sequentialminus": [
            [
             0.0,
             "#0d0887"
            ],
            [
             0.1111111111111111,
             "#46039f"
            ],
            [
             0.2222222222222222,
             "#7201a8"
            ],
            [
             0.3333333333333333,
             "#9c179e"
            ],
            [
             0.4444444444444444,
             "#bd3786"
            ],
            [
             0.5555555555555556,
             "#d8576b"
            ],
            [
             0.6666666666666666,
             "#ed7953"
            ],
            [
             0.7777777777777778,
             "#fb9f3a"
            ],
            [
             0.8888888888888888,
             "#fdca26"
            ],
            [
             1.0,
             "#f0f921"
            ]
           ]
          },
          "colorway": [
           "#636efa",
           "#EF553B",
           "#00cc96",
           "#ab63fa",
           "#FFA15A",
           "#19d3f3",
           "#FF6692",
           "#B6E880",
           "#FF97FF",
           "#FECB52"
          ],
          "font": {
           "color": "#2a3f5f"
          },
          "geo": {
           "bgcolor": "white",
           "lakecolor": "white",
           "landcolor": "#E5ECF6",
           "showlakes": true,
           "showland": true,
           "subunitcolor": "white"
          },
          "hoverlabel": {
           "align": "left"
          },
          "hovermode": "closest",
          "mapbox": {
           "style": "light"
          },
          "paper_bgcolor": "white",
          "plot_bgcolor": "#E5ECF6",
          "polar": {
           "angularaxis": {
            "gridcolor": "white",
            "linecolor": "white",
            "ticks": ""
           },
           "bgcolor": "#E5ECF6",
           "radialaxis": {
            "gridcolor": "white",
            "linecolor": "white",
            "ticks": ""
           }
          },
          "scene": {
           "xaxis": {
            "backgroundcolor": "#E5ECF6",
            "gridcolor": "white",
            "gridwidth": 2,
            "linecolor": "white",
            "showbackground": true,
            "ticks": "",
            "zerolinecolor": "white"
           },
           "yaxis": {
            "backgroundcolor": "#E5ECF6",
            "gridcolor": "white",
            "gridwidth": 2,
            "linecolor": "white",
            "showbackground": true,
            "ticks": "",
            "zerolinecolor": "white"
           },
           "zaxis": {
            "backgroundcolor": "#E5ECF6",
            "gridcolor": "white",
            "gridwidth": 2,
            "linecolor": "white",
            "showbackground": true,
            "ticks": "",
            "zerolinecolor": "white"
           }
          },
          "shapedefaults": {
           "line": {
            "color": "#2a3f5f"
           }
          },
          "ternary": {
           "aaxis": {
            "gridcolor": "white",
            "linecolor": "white",
            "ticks": ""
           },
           "baxis": {
            "gridcolor": "white",
            "linecolor": "white",
            "ticks": ""
           },
           "bgcolor": "#E5ECF6",
           "caxis": {
            "gridcolor": "white",
            "linecolor": "white",
            "ticks": ""
           }
          },
          "title": {
           "x": 0.05
          },
          "xaxis": {
           "automargin": true,
           "gridcolor": "white",
           "linecolor": "white",
           "ticks": "",
           "title": {
            "standoff": 15
           },
           "zerolinecolor": "white",
           "zerolinewidth": 2
          },
          "yaxis": {
           "automargin": true,
           "gridcolor": "white",
           "linecolor": "white",
           "ticks": "",
           "title": {
            "standoff": 15
           },
           "zerolinecolor": "white",
           "zerolinewidth": 2
          }
         }
        },
        "title": {
         "text": "Google Merchandise Store Conversion Path"
        },
        "width": 800
       }
      },
      "text/html": [
       "<div>                            <div id=\"c77234f2-11e5-4cfb-acd7-606aa02fa8b5\" class=\"plotly-graph-div\" style=\"height:400px; width:800px;\"></div>            <script type=\"text/javascript\">                require([\"plotly\"], function(Plotly) {                    window.PLOTLYENV=window.PLOTLYENV || {};                                    if (document.getElementById(\"c77234f2-11e5-4cfb-acd7-606aa02fa8b5\")) {                    Plotly.newPlot(                        \"c77234f2-11e5-4cfb-acd7-606aa02fa8b5\",                        [{\"textinfo\": \"value+percent initial\", \"textposition\": \"inside\", \"type\": \"funnel\", \"x\": [445760, 362607, 248936, 74457], \"y\": [\"Click through of product lists\", \"Product detail views\", \"Check out\", \"Completed purchase\"]}],                        {\"height\": 400, \"template\": {\"data\": {\"bar\": [{\"error_x\": {\"color\": \"#2a3f5f\"}, \"error_y\": {\"color\": \"#2a3f5f\"}, \"marker\": {\"line\": {\"color\": \"#E5ECF6\", \"width\": 0.5}}, \"type\": \"bar\"}], \"barpolar\": [{\"marker\": {\"line\": {\"color\": \"#E5ECF6\", \"width\": 0.5}}, \"type\": \"barpolar\"}], \"carpet\": [{\"aaxis\": {\"endlinecolor\": \"#2a3f5f\", \"gridcolor\": \"white\", \"linecolor\": \"white\", \"minorgridcolor\": \"white\", \"startlinecolor\": \"#2a3f5f\"}, \"baxis\": {\"endlinecolor\": \"#2a3f5f\", \"gridcolor\": \"white\", \"linecolor\": \"white\", \"minorgridcolor\": \"white\", \"startlinecolor\": \"#2a3f5f\"}, \"type\": \"carpet\"}], \"choropleth\": [{\"colorbar\": {\"outlinewidth\": 0, \"ticks\": \"\"}, \"type\": \"choropleth\"}], \"contour\": [{\"colorbar\": {\"outlinewidth\": 0, \"ticks\": \"\"}, \"colorscale\": [[0.0, \"#0d0887\"], [0.1111111111111111, \"#46039f\"], [0.2222222222222222, \"#7201a8\"], [0.3333333333333333, \"#9c179e\"], [0.4444444444444444, \"#bd3786\"], [0.5555555555555556, \"#d8576b\"], [0.6666666666666666, \"#ed7953\"], [0.7777777777777778, \"#fb9f3a\"], [0.8888888888888888, \"#fdca26\"], [1.0, \"#f0f921\"]], \"type\": \"contour\"}], \"contourcarpet\": [{\"colorbar\": {\"outlinewidth\": 0, \"ticks\": \"\"}, \"type\": \"contourcarpet\"}], \"heatmap\": [{\"colorbar\": {\"outlinewidth\": 0, \"ticks\": \"\"}, \"colorscale\": [[0.0, \"#0d0887\"], [0.1111111111111111, \"#46039f\"], [0.2222222222222222, \"#7201a8\"], [0.3333333333333333, \"#9c179e\"], [0.4444444444444444, \"#bd3786\"], [0.5555555555555556, \"#d8576b\"], [0.6666666666666666, \"#ed7953\"], [0.7777777777777778, \"#fb9f3a\"], [0.8888888888888888, \"#fdca26\"], [1.0, \"#f0f921\"]], \"type\": \"heatmap\"}], \"heatmapgl\": [{\"colorbar\": {\"outlinewidth\": 0, \"ticks\": \"\"}, \"colorscale\": [[0.0, \"#0d0887\"], [0.1111111111111111, \"#46039f\"], [0.2222222222222222, \"#7201a8\"], [0.3333333333333333, \"#9c179e\"], [0.4444444444444444, \"#bd3786\"], [0.5555555555555556, \"#d8576b\"], [0.6666666666666666, \"#ed7953\"], [0.7777777777777778, \"#fb9f3a\"], [0.8888888888888888, \"#fdca26\"], [1.0, \"#f0f921\"]], \"type\": \"heatmapgl\"}], \"histogram\": [{\"marker\": {\"colorbar\": {\"outlinewidth\": 0, \"ticks\": \"\"}}, \"type\": \"histogram\"}], \"histogram2d\": [{\"colorbar\": {\"outlinewidth\": 0, \"ticks\": \"\"}, \"colorscale\": [[0.0, \"#0d0887\"], [0.1111111111111111, \"#46039f\"], [0.2222222222222222, \"#7201a8\"], [0.3333333333333333, \"#9c179e\"], [0.4444444444444444, \"#bd3786\"], [0.5555555555555556, \"#d8576b\"], [0.6666666666666666, \"#ed7953\"], [0.7777777777777778, \"#fb9f3a\"], [0.8888888888888888, \"#fdca26\"], [1.0, \"#f0f921\"]], \"type\": \"histogram2d\"}], \"histogram2dcontour\": [{\"colorbar\": {\"outlinewidth\": 0, \"ticks\": \"\"}, \"colorscale\": [[0.0, \"#0d0887\"], [0.1111111111111111, \"#46039f\"], [0.2222222222222222, \"#7201a8\"], [0.3333333333333333, \"#9c179e\"], [0.4444444444444444, \"#bd3786\"], [0.5555555555555556, \"#d8576b\"], [0.6666666666666666, \"#ed7953\"], [0.7777777777777778, \"#fb9f3a\"], [0.8888888888888888, \"#fdca26\"], [1.0, \"#f0f921\"]], \"type\": \"histogram2dcontour\"}], \"mesh3d\": [{\"colorbar\": {\"outlinewidth\": 0, \"ticks\": \"\"}, \"type\": \"mesh3d\"}], \"parcoords\": [{\"line\": {\"colorbar\": {\"outlinewidth\": 0, \"ticks\": \"\"}}, \"type\": \"parcoords\"}], \"pie\": [{\"automargin\": true, \"type\": \"pie\"}], \"scatter\": [{\"marker\": {\"colorbar\": {\"outlinewidth\": 0, \"ticks\": \"\"}}, \"type\": \"scatter\"}], \"scatter3d\": [{\"line\": {\"colorbar\": {\"outlinewidth\": 0, \"ticks\": \"\"}}, \"marker\": {\"colorbar\": {\"outlinewidth\": 0, \"ticks\": \"\"}}, \"type\": \"scatter3d\"}], \"scattercarpet\": [{\"marker\": {\"colorbar\": {\"outlinewidth\": 0, \"ticks\": \"\"}}, \"type\": \"scattercarpet\"}], \"scattergeo\": [{\"marker\": {\"colorbar\": {\"outlinewidth\": 0, \"ticks\": \"\"}}, \"type\": \"scattergeo\"}], \"scattergl\": [{\"marker\": {\"colorbar\": {\"outlinewidth\": 0, \"ticks\": \"\"}}, \"type\": \"scattergl\"}], \"scattermapbox\": [{\"marker\": {\"colorbar\": {\"outlinewidth\": 0, \"ticks\": \"\"}}, \"type\": \"scattermapbox\"}], \"scatterpolar\": [{\"marker\": {\"colorbar\": {\"outlinewidth\": 0, \"ticks\": \"\"}}, \"type\": \"scatterpolar\"}], \"scatterpolargl\": [{\"marker\": {\"colorbar\": {\"outlinewidth\": 0, \"ticks\": \"\"}}, \"type\": \"scatterpolargl\"}], \"scatterternary\": [{\"marker\": {\"colorbar\": {\"outlinewidth\": 0, \"ticks\": \"\"}}, \"type\": \"scatterternary\"}], \"surface\": [{\"colorbar\": {\"outlinewidth\": 0, \"ticks\": \"\"}, \"colorscale\": [[0.0, \"#0d0887\"], [0.1111111111111111, \"#46039f\"], [0.2222222222222222, \"#7201a8\"], [0.3333333333333333, \"#9c179e\"], [0.4444444444444444, \"#bd3786\"], [0.5555555555555556, \"#d8576b\"], [0.6666666666666666, \"#ed7953\"], [0.7777777777777778, \"#fb9f3a\"], [0.8888888888888888, \"#fdca26\"], [1.0, \"#f0f921\"]], \"type\": \"surface\"}], \"table\": [{\"cells\": {\"fill\": {\"color\": \"#EBF0F8\"}, \"line\": {\"color\": \"white\"}}, \"header\": {\"fill\": {\"color\": \"#C8D4E3\"}, \"line\": {\"color\": \"white\"}}, \"type\": \"table\"}]}, \"layout\": {\"annotationdefaults\": {\"arrowcolor\": \"#2a3f5f\", \"arrowhead\": 0, \"arrowwidth\": 1}, \"coloraxis\": {\"colorbar\": {\"outlinewidth\": 0, \"ticks\": \"\"}}, \"colorscale\": {\"diverging\": [[0, \"#8e0152\"], [0.1, \"#c51b7d\"], [0.2, \"#de77ae\"], [0.3, \"#f1b6da\"], [0.4, \"#fde0ef\"], [0.5, \"#f7f7f7\"], [0.6, \"#e6f5d0\"], [0.7, \"#b8e186\"], [0.8, \"#7fbc41\"], [0.9, \"#4d9221\"], [1, \"#276419\"]], \"sequential\": [[0.0, \"#0d0887\"], [0.1111111111111111, \"#46039f\"], [0.2222222222222222, \"#7201a8\"], [0.3333333333333333, \"#9c179e\"], [0.4444444444444444, \"#bd3786\"], [0.5555555555555556, \"#d8576b\"], [0.6666666666666666, \"#ed7953\"], [0.7777777777777778, \"#fb9f3a\"], [0.8888888888888888, \"#fdca26\"], [1.0, \"#f0f921\"]], \"sequentialminus\": [[0.0, \"#0d0887\"], [0.1111111111111111, \"#46039f\"], [0.2222222222222222, \"#7201a8\"], [0.3333333333333333, \"#9c179e\"], [0.4444444444444444, \"#bd3786\"], [0.5555555555555556, \"#d8576b\"], [0.6666666666666666, \"#ed7953\"], [0.7777777777777778, \"#fb9f3a\"], [0.8888888888888888, \"#fdca26\"], [1.0, \"#f0f921\"]]}, \"colorway\": [\"#636efa\", \"#EF553B\", \"#00cc96\", \"#ab63fa\", \"#FFA15A\", \"#19d3f3\", \"#FF6692\", \"#B6E880\", \"#FF97FF\", \"#FECB52\"], \"font\": {\"color\": \"#2a3f5f\"}, \"geo\": {\"bgcolor\": \"white\", \"lakecolor\": \"white\", \"landcolor\": \"#E5ECF6\", \"showlakes\": true, \"showland\": true, \"subunitcolor\": \"white\"}, \"hoverlabel\": {\"align\": \"left\"}, \"hovermode\": \"closest\", \"mapbox\": {\"style\": \"light\"}, \"paper_bgcolor\": \"white\", \"plot_bgcolor\": \"#E5ECF6\", \"polar\": {\"angularaxis\": {\"gridcolor\": \"white\", \"linecolor\": \"white\", \"ticks\": \"\"}, \"bgcolor\": \"#E5ECF6\", \"radialaxis\": {\"gridcolor\": \"white\", \"linecolor\": \"white\", \"ticks\": \"\"}}, \"scene\": {\"xaxis\": {\"backgroundcolor\": \"#E5ECF6\", \"gridcolor\": \"white\", \"gridwidth\": 2, \"linecolor\": \"white\", \"showbackground\": true, \"ticks\": \"\", \"zerolinecolor\": \"white\"}, \"yaxis\": {\"backgroundcolor\": \"#E5ECF6\", \"gridcolor\": \"white\", \"gridwidth\": 2, \"linecolor\": \"white\", \"showbackground\": true, \"ticks\": \"\", \"zerolinecolor\": \"white\"}, \"zaxis\": {\"backgroundcolor\": \"#E5ECF6\", \"gridcolor\": \"white\", \"gridwidth\": 2, \"linecolor\": \"white\", \"showbackground\": true, \"ticks\": \"\", \"zerolinecolor\": \"white\"}}, \"shapedefaults\": {\"line\": {\"color\": \"#2a3f5f\"}}, \"ternary\": {\"aaxis\": {\"gridcolor\": \"white\", \"linecolor\": \"white\", \"ticks\": \"\"}, \"baxis\": {\"gridcolor\": \"white\", \"linecolor\": \"white\", \"ticks\": \"\"}, \"bgcolor\": \"#E5ECF6\", \"caxis\": {\"gridcolor\": \"white\", \"linecolor\": \"white\", \"ticks\": \"\"}}, \"title\": {\"x\": 0.05}, \"xaxis\": {\"automargin\": true, \"gridcolor\": \"white\", \"linecolor\": \"white\", \"ticks\": \"\", \"title\": {\"standoff\": 15}, \"zerolinecolor\": \"white\", \"zerolinewidth\": 2}, \"yaxis\": {\"automargin\": true, \"gridcolor\": \"white\", \"linecolor\": \"white\", \"ticks\": \"\", \"title\": {\"standoff\": 15}, \"zerolinecolor\": \"white\", \"zerolinewidth\": 2}}}, \"title\": {\"text\": \"Google Merchandise Store Conversion Path\"}, \"width\": 800},                        {\"responsive\": true}                    ).then(function(){\n",
       "                            \n",
       "var gd = document.getElementById('c77234f2-11e5-4cfb-acd7-606aa02fa8b5');\n",
       "var x = new MutationObserver(function (mutations, observer) {{\n",
       "        var display = window.getComputedStyle(gd).display;\n",
       "        if (!display || display === 'none') {{\n",
       "            console.log([gd, 'removed!']);\n",
       "            Plotly.purge(gd);\n",
       "            observer.disconnect();\n",
       "        }}\n",
       "}});\n",
       "\n",
       "// Listen for the removal of the full notebook cells\n",
       "var notebookContainer = gd.closest('#notebook-container');\n",
       "if (notebookContainer) {{\n",
       "    x.observe(notebookContainer, {childList: true});\n",
       "}}\n",
       "\n",
       "// Listen for the clearing of the current output cell\n",
       "var outputEl = gd.closest('.output');\n",
       "if (outputEl) {{\n",
       "    x.observe(outputEl, {childList: true});\n",
       "}}\n",
       "\n",
       "                        })                };                });            </script>        </div>"
      ]
     },
     "metadata": {},
     "output_type": "display_data"
    }
   ],
   "source": [
    "funnel_graph.show()"
   ]
  },
  {
   "cell_type": "markdown",
   "metadata": {
    "papermill": {
     "duration": 0.0772,
     "end_time": "2023-08-20T23:18:57.003133",
     "exception": false,
     "start_time": "2023-08-20T23:18:56.925933",
     "status": "completed"
    },
    "tags": []
   },
   "source": [
    "We can see that many visitors are proceeding through the conversion process up to checkout, but then exiting before completing their purchase. This leads me to think that either: \n",
    "1. There is a problem with the purchase form\n",
    "2. My earlier hypothesis that users are browsing and tentatively deciding on the purchase, and then completing it in a later session, may be correct"
   ]
  },
  {
   "cell_type": "markdown",
   "metadata": {
    "papermill": {
     "duration": 0.07774,
     "end_time": "2023-08-20T23:18:57.158611",
     "exception": false,
     "start_time": "2023-08-20T23:18:57.080871",
     "status": "completed"
    },
    "tags": []
   },
   "source": [
    "## Identify Best-Selling Product Categories and Forecast Demand"
   ]
  },
  {
   "cell_type": "code",
   "execution_count": 23,
   "metadata": {
    "_kg_hide-input": true,
    "execution": {
     "iopub.execute_input": "2023-08-20T23:18:57.325378Z",
     "iopub.status.busy": "2023-08-20T23:18:57.324594Z",
     "iopub.status.idle": "2023-08-20T23:18:57.667879Z",
     "shell.execute_reply": "2023-08-20T23:18:57.667095Z",
     "shell.execute_reply.started": "2023-08-20T22:50:25.752580Z"
    },
    "papermill": {
     "duration": 0.429449,
     "end_time": "2023-08-20T23:18:57.668051",
     "exception": false,
     "start_time": "2023-08-20T23:18:57.238602",
     "status": "completed"
    },
    "tags": []
   },
   "outputs": [
    {
     "data": {
      "image/png": "[encoded data removed]",
      "text/plain": [
       "<Figure size 720x432 with 1 Axes>"
      ]
     },
     "metadata": {
      "needs_background": "light"
     },
     "output_type": "display_data"
    }
   ],
   "source": [
    "fig, ax = plt.subplots(figsize=(10,6))\n",
    "cat_result.sort_values(by='total_revenue', axis=0).plot(y='total_revenue', x='category', \n",
    "                                                        kind='barh', title='Revenue by Category', ax=ax)\n",
    "ax.set_ylabel('')\n",
    "plt.show()"
   ]
  },
  {
   "cell_type": "markdown",
   "metadata": {
    "papermill": {
     "duration": 0.07743,
     "end_time": "2023-08-20T23:18:57.825023",
     "exception": false,
     "start_time": "2023-08-20T23:18:57.747593",
     "status": "completed"
    },
    "tags": []
   },
   "source": [
    "The best-selling categories are Apparel、Office、Electronics、Office、and Drinkware.\n",
    "\n",
    "Within the Apparel category, Men's T-Shirts seems to sell especially well.\n",
    "\n",
    "Let's look at the moving average of transactions for Men's T-shirts、Drinkware、Office、and Electronics to see if their is any seasonal demand."
   ]
  },
  {
   "cell_type": "code",
   "execution_count": 24,
   "metadata": {
    "_kg_hide-input": true,
    "execution": {
     "iopub.execute_input": "2023-08-20T23:18:57.987719Z",
     "iopub.status.busy": "2023-08-20T23:18:57.986861Z",
     "iopub.status.idle": "2023-08-20T23:20:02.833618Z",
     "shell.execute_reply": "2023-08-20T23:20:02.834195Z",
     "shell.execute_reply.started": "2023-08-20T22:50:26.121421Z"
    },
    "papermill": {
     "duration": 64.928742,
     "end_time": "2023-08-20T23:20:02.834359",
     "exception": false,
     "start_time": "2023-08-20T23:18:57.905617",
     "status": "completed"
    },
    "tags": []
   },
   "outputs": [
    {
     "data": {
      "image/png": "[encoded data removed]",
      "text/plain": [
       "<Figure size 1440x1008 with 4 Axes>"
      ]
     },
     "metadata": {
      "needs_background": "light"
     },
     "output_type": "display_data"
    }
   ],
   "source": [
    "fig, axes = plt.subplots(nrows=2, ncols=2, figsize=(20,14))\n",
    "\n",
    "# Men's T-shirts\n",
    "query1 = \"\"\" \n",
    "        WITH daily_mens_tshirt_transactions AS\n",
    "        (\n",
    "        SELECT \n",
    "            date,\n",
    "            SUM(totals.transactions) AS transactions\n",
    "        FROM \n",
    "            `bigquery-public-data.google_analytics_sample.ga_sessions_*`,\n",
    "            UNNEST(hits) AS hits,\n",
    "            UNNEST(hits.product) AS product\n",
    "        WHERE\n",
    "            _TABLE_SUFFIX BETWEEN '20160801' AND '20170801'\n",
    "        AND\n",
    "            product.v2ProductCategory = \"Home/Apparel/Men's/Men's-T-Shirts/\"\n",
    "        GROUP BY\n",
    "            date\n",
    "        ORDER BY\n",
    "            date\n",
    "        )\n",
    "        \n",
    "        SELECT\n",
    "            date,\n",
    "            AVG(transactions)\n",
    "            OVER (\n",
    "                  ORDER BY date\n",
    "                  ROWS BETWEEN 3 PRECEDING AND 3 FOLLOWING    \n",
    "                 ) AS avg_transactions\n",
    "        FROM \n",
    "            daily_mens_tshirt_transactions\n",
    "        \"\"\"\n",
    "\n",
    "result1 = client.query(query1).result().to_dataframe()\n",
    "result1['date'] = pd.to_datetime(result1['date'])\n",
    "ax1 = result1.plot(y='avg_transactions', x='date', kind='line', \n",
    "                   title='Men\\'s T-Shirts Conversions 7-Day Moving Average', ax=axes[0,0])\n",
    "\n",
    "# Drinkware\n",
    "query2 = \"\"\" \n",
    "        WITH daily_drinkware_transactions AS\n",
    "        (\n",
    "        SELECT \n",
    "            date,\n",
    "            SUM(totals.transactions) AS transactions\n",
    "        FROM \n",
    "            `bigquery-public-data.google_analytics_sample.ga_sessions_*`,\n",
    "            UNNEST(hits) AS hits,\n",
    "            UNNEST(hits.product) AS product\n",
    "        WHERE\n",
    "            _TABLE_SUFFIX BETWEEN '20160801' AND '20170801'\n",
    "        AND\n",
    "            product.v2ProductCategory = \"Home/Drinkware/Water Bottles and Tumblers/\"\n",
    "        GROUP BY\n",
    "            date\n",
    "        ORDER BY\n",
    "            date\n",
    "        )\n",
    "        \n",
    "        SELECT\n",
    "            date,\n",
    "            AVG(transactions)\n",
    "            OVER (\n",
    "                  ORDER BY date\n",
    "                  ROWS BETWEEN 3 PRECEDING AND 3 FOLLOWING    \n",
    "                 ) AS avg_transactions\n",
    "        FROM \n",
    "            daily_drinkware_transactions\n",
    "        \"\"\"\n",
    "\n",
    "result2 = client.query(query2).result().to_dataframe()\n",
    "result2['date'] = pd.to_datetime(result2['date'])\n",
    "result2.plot(y='avg_transactions', x='date', kind='line', \n",
    "             title='Drinkware Conversions 7-Day Moving Average', ax=axes[0,1])\n",
    "\n",
    "# Office Supplies\n",
    "query3 = \"\"\" \n",
    "        WITH daily_office_transactions AS\n",
    "        (\n",
    "        SELECT \n",
    "            date,\n",
    "            SUM(totals.transactions) AS transactions\n",
    "        FROM \n",
    "            `bigquery-public-data.google_analytics_sample.ga_sessions_*`,\n",
    "            UNNEST(hits) AS hits,\n",
    "            UNNEST(hits.product) AS product\n",
    "        WHERE\n",
    "            _TABLE_SUFFIX BETWEEN '20160801' AND '20170801'\n",
    "        AND\n",
    "            product.v2ProductCategory = \"Home/Office/\"\n",
    "        GROUP BY\n",
    "            date\n",
    "        ORDER BY\n",
    "            date\n",
    "        )\n",
    "        \n",
    "        SELECT\n",
    "            date,\n",
    "            AVG(transactions)\n",
    "            OVER (\n",
    "                  ORDER BY date\n",
    "                  ROWS BETWEEN 3 PRECEDING AND 3 FOLLOWING    \n",
    "                 ) AS avg_transactions\n",
    "        FROM \n",
    "            daily_office_transactions\n",
    "        \"\"\"\n",
    "\n",
    "result3 = client.query(query3).result().to_dataframe()\n",
    "result3['date'] = pd.to_datetime(result3['date'])\n",
    "result3.plot(y='avg_transactions', x='date', kind='line', \n",
    "             title='Office Conversions 7-Day Moving Average', ax=axes[1,0])\n",
    "\n",
    "# Electronics\n",
    "query4 = \"\"\" \n",
    "        WITH daily_electronics_transactions AS\n",
    "        (\n",
    "        SELECT \n",
    "            date,\n",
    "            SUM(totals.transactions) AS transactions\n",
    "        FROM \n",
    "            `bigquery-public-data.google_analytics_sample.ga_sessions_*`,\n",
    "            UNNEST(hits) AS hits,\n",
    "            UNNEST(hits.product) AS product\n",
    "        WHERE\n",
    "            _TABLE_SUFFIX BETWEEN '20160801' AND '20170801'\n",
    "        AND\n",
    "            product.v2ProductCategory = \"Home/Electronics/\"\n",
    "        GROUP BY\n",
    "            date\n",
    "        ORDER BY\n",
    "            date\n",
    "        )\n",
    "        \n",
    "        SELECT\n",
    "            date,\n",
    "            AVG(transactions)\n",
    "            OVER (\n",
    "                  ORDER BY date\n",
    "                  ROWS BETWEEN 3 PRECEDING AND 3 FOLLOWING    \n",
    "                 ) AS avg_transactions\n",
    "        FROM \n",
    "            daily_electronics_transactions\n",
    "        \"\"\"\n",
    "\n",
    "result4 = client.query(query4).result().to_dataframe()\n",
    "result4['date'] = pd.to_datetime(result4['date'])\n",
    "result4.plot(y='avg_transactions', x='date', kind='line', \n",
    "             title='Electronics Conversions 7-Day Moving Average', ax=axes[1,1])\n",
    "plt.show()"
   ]
  },
  {
   "cell_type": "markdown",
   "metadata": {
    "papermill": {
     "duration": 0.080767,
     "end_time": "2023-08-20T23:20:02.996360",
     "exception": false,
     "start_time": "2023-08-20T23:20:02.915593",
     "status": "completed"
    },
    "tags": []
   },
   "source": [
    "The average transactions for August 2016 are very high compared to later periods, but since we don't know the cause of this we will ignore it for now.\n",
    "\n",
    "Office and Electronics products seem to have steady demand year-round, Drinkware seems to see a spike in demand in December and March, and demand for Men's T-Shirts seem to increase in September, March, and August.\n",
    "\n",
    "Based on this, we should consider analyzing the effect on sales of increased advertising during these periods."
   ]
  },
  {
   "cell_type": "markdown",
   "metadata": {
    "papermill": {
     "duration": 0.081765,
     "end_time": "2023-08-20T23:20:03.159557",
     "exception": false,
     "start_time": "2023-08-20T23:20:03.077792",
     "status": "completed"
    },
    "tags": []
   },
   "source": [
    "For this exploratory analysis we end up with more questions than answers, but these will help us to formulate more targeted analyses:\n",
    "\n",
    "1. Is our site optimized for SEO, and are people seeing what they expect when they first enter the site?\n",
    "2. Among the top 5 most widely-used browsers, is our site being displayed the same on each, and does it have the same functionality on each?\n",
    "3. Is our site being displayed and functioning properly on mobile devices?\n",
    "4. Are users exiting the site on the checkout page because of a problem with the page/form, or do many of our users complete their purchases across multiple sessions?\n",
    "5. Since we now know that 2 of our best product categories have significant seasonal demand, and that traffic from paid advetising has the highest conversion rates, can we adjust the timing and content of our advertising campaigns to capitalize on this seasonal demand, and significantly improve sales?"
   ]
  },
  {
   "cell_type": "markdown",
   "metadata": {
    "papermill": {
     "duration": 0.08137,
     "end_time": "2023-08-20T23:20:03.325895",
     "exception": false,
     "start_time": "2023-08-20T23:20:03.244525",
     "status": "completed"
    },
    "tags": []
   },
   "source": [
    "Thanks for reading!"
   ]
  }
 ],
 "metadata": {
  "kernelspec": {
   "display_name": "Python 3",
   "language": "python",
   "name": "python3"
  },
  "language_info": {
   "codemirror_mode": {
    "name": "ipython",
    "version": 3
   },
   "file_extension": ".py",
   "mimetype": "text/x-python",
   "name": "python",
   "nbconvert_exporter": "python",
   "pygments_lexer": "ipython3",
   "version": "3.7.6"
  },
  "papermill": {
   "duration": 302.217459,
   "end_time": "2023-08-20T23:20:03.515516",
   "environment_variables": {},
   "exception": null,
   "input_path": "__notebook__.ipynb",
   "output_path": "__notebook__.ipynb",
   "parameters": {},
   "start_time": "2023-08-20T23:15:01.298057",
   "version": "2.1.0"
  }
 },
 "nbformat": 4,
 "nbformat_minor": 4
}
